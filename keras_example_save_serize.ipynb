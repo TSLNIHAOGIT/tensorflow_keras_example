{
 "cells": [
  {
   "cell_type": "code",
   "execution_count": 1,
   "metadata": {},
   "outputs": [],
   "source": [
    "# 1.保持序列模型和函数模型"
   ]
  },
  {
   "cell_type": "code",
   "execution_count": 2,
   "metadata": {},
   "outputs": [
    {
     "name": "stdout",
     "output_type": "stream",
     "text": [
      "Model: \"3_layer_mlp\"\n",
      "_________________________________________________________________\n",
      "Layer (type)                 Output Shape              Param #   \n",
      "=================================================================\n",
      "digits (InputLayer)          [(None, 784)]             0         \n",
      "_________________________________________________________________\n",
      "dense_1 (Dense)              (None, 64)                50240     \n",
      "_________________________________________________________________\n",
      "dense_2 (Dense)              (None, 64)                4160      \n",
      "_________________________________________________________________\n",
      "predictions (Dense)          (None, 10)                650       \n",
      "=================================================================\n",
      "Total params: 55,050\n",
      "Trainable params: 55,050\n",
      "Non-trainable params: 0\n",
      "_________________________________________________________________\n"
     ]
    },
    {
     "name": "stderr",
     "output_type": "stream",
     "text": [
      "WARNING: Logging before flag parsing goes to stderr.\n",
      "W0710 06:11:54.982882 140640123414272 deprecation.py:323] From /usr/local/lib/python3.5/dist-packages/tensorflow/python/ops/math_grad.py:1250: add_dispatch_support.<locals>.wrapper (from tensorflow.python.ops.array_ops) is deprecated and will be removed in a future version.\n",
      "Instructions for updating:\n",
      "Use tf.where in 2.0, which has the same broadcast rule as np.where\n"
     ]
    },
    {
     "name": "stdout",
     "output_type": "stream",
     "text": [
      "Train on 60000 samples\n",
      "60000/60000 [==============================] - 6s 95us/sample - loss: 0.3148\n"
     ]
    }
   ],
   "source": [
    "# 构建一个简单的模型并训练\n",
    "\n",
    "import tensorflow as tf\n",
    "tf.keras.backend.clear_session()\n",
    "from tensorflow import keras\n",
    "from tensorflow.keras import layers\n",
    "\n",
    "inputs = keras.Input(shape=(784,), name='digits')\n",
    "x = layers.Dense(64, activation='relu', name='dense_1')(inputs)\n",
    "x = layers.Dense(64, activation='relu', name='dense_2')(x)\n",
    "outputs = layers.Dense(10, activation='softmax', name='predictions')(x)\n",
    "\n",
    "model = keras.Model(inputs=inputs, outputs=outputs, name='3_layer_mlp')\n",
    "model.summary()\n",
    "(x_train, y_train), (x_test, y_test) = keras.datasets.mnist.load_data()\n",
    "x_train = x_train.reshape(60000, 784).astype('float32') / 255\n",
    "x_test = x_test.reshape(10000, 784).astype('float32') / 255\n",
    "\n",
    "model.compile(loss='sparse_categorical_crossentropy',\n",
    "              optimizer=keras.optimizers.RMSprop())\n",
    "history = model.fit(x_train, y_train,\n",
    "                    batch_size=64,\n",
    "                    epochs=1)\n",
    "\n",
    "predictions = model.predict(x_test)\n"
   ]
  },
  {
   "cell_type": "code",
   "execution_count": null,
   "metadata": {},
   "outputs": [],
   "source": [
    "# 1.1保持全模型\n",
    "# 可以对整个模型进行保存，其保持的内容包括：\n",
    "\n",
    "# 该模型的架构\n",
    "# 模型的权重（在训练期间学到的）\n",
    "# 模型的训练配置（你传递给编译的），如果有的话\n",
    "# 优化器及其状态（如果有的话）（这使您可以从中断的地方重新启动训练）"
   ]
  },
  {
   "cell_type": "code",
   "execution_count": 3,
   "metadata": {},
   "outputs": [],
   "source": [
    "import numpy as np\n",
    "model.save('the_save_model.h5')\n",
    "\n"
   ]
  },
  {
   "cell_type": "code",
   "execution_count": 4,
   "metadata": {},
   "outputs": [
    {
     "name": "stdout",
     "output_type": "stream",
     "text": [
      "[[2.63737980e-04 3.25902676e-07 5.11975493e-04 ... 9.93999839e-01\n",
      "  1.63902063e-04 3.22614127e-04]\n",
      " [6.39909646e-04 1.37444613e-05 9.95352268e-01 ... 1.41465273e-09\n",
      "  1.21340316e-04 4.18984930e-10]\n",
      " [9.75631847e-05 9.88689721e-01 2.55207554e-03 ... 1.67452369e-03\n",
      "  1.61452102e-03 1.53704765e-04]\n",
      " ...\n",
      " [1.05973538e-06 2.04239896e-08 8.90532419e-07 ... 1.58701678e-05\n",
      "  4.01161204e-04 9.76371299e-03]\n",
      " [2.22036797e-05 8.02153318e-06 8.83524308e-07 ... 6.46006697e-08\n",
      "  7.80109968e-03 1.87486614e-06]\n",
      " [4.95852646e-06 9.52486354e-11 1.20624591e-05 ... 1.91408264e-10\n",
      "  7.36301775e-09 1.19961840e-09]]\n"
     ]
    }
   ],
   "source": [
    "new_model = keras.models.load_model('the_save_model.h5')\n",
    "new_prediction = new_model.predict(x_test)\n",
    "print(new_prediction)\n",
    "np.testing.assert_allclose(predictions, new_prediction, atol=1e-6) # 预测结果一样\n"
   ]
  },
  {
   "cell_type": "code",
   "execution_count": 5,
   "metadata": {},
   "outputs": [
    {
     "name": "stderr",
     "output_type": "stream",
     "text": [
      "W0710 06:14:57.024204 140640123414272 deprecation.py:323] From /usr/local/lib/python3.5/dist-packages/tensorflow/python/saved_model/signature_def_utils_impl.py:253: build_tensor_info (from tensorflow.python.saved_model.utils_impl) is deprecated and will be removed in a future version.\n",
      "Instructions for updating:\n",
      "This function will only be available through the v1 compatibility library as tf.compat.v1.saved_model.utils.build_tensor_info or tf.compat.v1.saved_model.build_tensor_info.\n",
      "W0710 06:14:57.026279 140640123414272 export_utils.py:182] Export includes no default signature!\n",
      "W0710 06:14:57.523731 140640123414272 export_utils.py:182] Export includes no default signature!\n"
     ]
    }
   ],
   "source": [
    "# 1.2 保持为SavedModel文件\n",
    "keras.experimental.export_saved_model(model, 'saved_model')\n",
    "new_model = keras.experimental.load_from_saved_model('saved_model')\n",
    "new_prediction = new_model.predict(x_test)\n",
    "np.testing.assert_allclose(predictions, new_prediction, atol=1e-6) # 预测结果一样\n",
    "\n",
    "\n",
    "\n"
   ]
  },
  {
   "cell_type": "code",
   "execution_count": 8,
   "metadata": {},
   "outputs": [],
   "source": [
    "### 1.3仅保存网络结构\n",
    "#仅保持网络结构，这样导出的模型并未包含训练好的参数\n",
    "\n",
    "\n",
    "# ```python\n",
    "config = model.get_config()\n",
    "reinitialized_model = keras.Model.from_config(config)\n",
    "new_prediction = reinitialized_model.predict(x_test)\n",
    "assert abs(np.sum(predictions-new_prediction)) >0"
   ]
  },
  {
   "cell_type": "code",
   "execution_count": 9,
   "metadata": {},
   "outputs": [],
   "source": [
    "# 也可以使用json保存网络结构\n",
    "json_config = model.to_json()\n",
    "reinitialized_model = keras.models.model_from_json(json_config)\n",
    "new_prediction = reinitialized_model.predict(x_test)\n",
    "assert abs(np.sum(predictions-new_prediction)) >0\n"
   ]
  },
  {
   "cell_type": "code",
   "execution_count": 10,
   "metadata": {},
   "outputs": [],
   "source": [
    "# 1.4仅保存网络参数\n",
    "weights = model.get_weights()\n",
    "model.set_weights(weights)\n"
   ]
  },
  {
   "cell_type": "code",
   "execution_count": 11,
   "metadata": {},
   "outputs": [],
   "source": [
    "# 可以把结构和参数保存结合起来\n",
    "config = model.get_config()\n",
    "weights = model.get_weights()\n",
    "new_model = keras.Model.from_config(config) # config只能用keras.Model的这个api\n",
    "new_model.set_weights(weights)\n",
    "new_predictions = new_model.predict(x_test)\n",
    "np.testing.assert_allclose(predictions, new_predictions, atol=1e-6)\n"
   ]
  },
  {
   "cell_type": "code",
   "execution_count": 16,
   "metadata": {},
   "outputs": [],
   "source": [
    "# 1.5完整的模型保持方法\n"
   ]
  },
  {
   "cell_type": "code",
   "execution_count": 17,
   "metadata": {},
   "outputs": [],
   "source": [
    "json_config = model.to_json()\n",
    "with open('model_config.json', 'w') as json_file:\n",
    "    json_file.write(json_config)\n",
    "\n",
    "model.save_weights('path_to_my_weights.h5')\n",
    "\n",
    "with open('model_config.json') as json_file:\n",
    "    json_config = json_file.read()\n",
    "new_model = keras.models.model_from_json(json_config)\n",
    "new_model.load_weights('path_to_my_weights.h5')\n",
    "\n",
    "new_predictions = new_model.predict(x_test)\n",
    "np.testing.assert_allclose(predictions, new_predictions, atol=1e-6)\n"
   ]
  },
  {
   "cell_type": "code",
   "execution_count": 18,
   "metadata": {
    "collapsed": true
   },
   "outputs": [
    {
     "name": "stderr",
     "output_type": "stream",
     "text": [
      "W0710 06:21:13.239060 140640123414272 util.py:244] Unresolved object in checkpoint: (root).optimizer.decay\n",
      "W0710 06:21:13.241223 140640123414272 util.py:244] Unresolved object in checkpoint: (root).optimizer.learning_rate\n",
      "W0710 06:21:13.243048 140640123414272 util.py:244] Unresolved object in checkpoint: (root).optimizer.momentum\n",
      "W0710 06:21:13.244048 140640123414272 util.py:244] Unresolved object in checkpoint: (root).optimizer.rho\n",
      "W0710 06:21:13.244863 140640123414272 util.py:244] Unresolved object in checkpoint: (root).optimizer's state 'rms' for (root).layer_with_weights-0.kernel\n",
      "W0710 06:21:13.245847 140640123414272 util.py:244] Unresolved object in checkpoint: (root).optimizer's state 'rms' for (root).layer_with_weights-0.bias\n",
      "W0710 06:21:13.246569 140640123414272 util.py:244] Unresolved object in checkpoint: (root).optimizer's state 'rms' for (root).layer_with_weights-1.kernel\n",
      "W0710 06:21:13.247335 140640123414272 util.py:244] Unresolved object in checkpoint: (root).optimizer's state 'rms' for (root).layer_with_weights-1.bias\n",
      "W0710 06:21:13.248052 140640123414272 util.py:244] Unresolved object in checkpoint: (root).optimizer's state 'rms' for (root).layer_with_weights-2.kernel\n",
      "W0710 06:21:13.248796 140640123414272 util.py:244] Unresolved object in checkpoint: (root).optimizer's state 'rms' for (root).layer_with_weights-2.bias\n",
      "W0710 06:21:13.249518 140640123414272 util.py:252] A checkpoint was restored (e.g. tf.train.Checkpoint.restore or tf.keras.Model.load_weights) but not all checkpointed values were used. See above for specific issues. Use expect_partial() on the load status object, e.g. tf.train.Checkpoint.restore(...).expect_partial(), to silence these warnings, or use assert_consumed() to make the check explicit. See https://www.tensorflow.org/alpha/guide/checkpoints#loading_mechanics for details.\n",
      "W0710 06:21:13.255134 140640123414272 util.py:244] Unresolved object in checkpoint: (root).optimizer\n",
      "W0710 06:21:13.255883 140640123414272 util.py:244] Unresolved object in checkpoint: (root).optimizer.iter\n",
      "W0710 06:21:13.256617 140640123414272 util.py:244] Unresolved object in checkpoint: (root).optimizer.decay\n",
      "W0710 06:21:13.257378 140640123414272 util.py:244] Unresolved object in checkpoint: (root).optimizer.learning_rate\n",
      "W0710 06:21:13.258129 140640123414272 util.py:244] Unresolved object in checkpoint: (root).optimizer.momentum\n",
      "W0710 06:21:13.258902 140640123414272 util.py:244] Unresolved object in checkpoint: (root).optimizer.rho\n",
      "W0710 06:21:13.259611 140640123414272 util.py:244] Unresolved object in checkpoint: (root).optimizer's state 'rms' for (root).layer_with_weights-0.kernel\n",
      "W0710 06:21:13.260347 140640123414272 util.py:244] Unresolved object in checkpoint: (root).optimizer's state 'rms' for (root).layer_with_weights-0.bias\n",
      "W0710 06:21:13.261051 140640123414272 util.py:244] Unresolved object in checkpoint: (root).optimizer's state 'rms' for (root).layer_with_weights-1.kernel\n",
      "W0710 06:21:13.261769 140640123414272 util.py:244] Unresolved object in checkpoint: (root).optimizer's state 'rms' for (root).layer_with_weights-1.bias\n",
      "W0710 06:21:13.262458 140640123414272 util.py:244] Unresolved object in checkpoint: (root).optimizer's state 'rms' for (root).layer_with_weights-2.kernel\n",
      "W0710 06:21:13.263180 140640123414272 util.py:244] Unresolved object in checkpoint: (root).optimizer's state 'rms' for (root).layer_with_weights-2.bias\n",
      "W0710 06:21:13.263889 140640123414272 util.py:252] A checkpoint was restored (e.g. tf.train.Checkpoint.restore or tf.keras.Model.load_weights) but not all checkpointed values were used. See above for specific issues. Use expect_partial() on the load status object, e.g. tf.train.Checkpoint.restore(...).expect_partial(), to silence these warnings, or use assert_consumed() to make the check explicit. See https://www.tensorflow.org/alpha/guide/checkpoints#loading_mechanics for details.\n",
      "W0710 06:21:13.265138 140640123414272 util.py:244] Unresolved object in checkpoint: (root).optimizer\n",
      "W0710 06:21:13.265875 140640123414272 util.py:244] Unresolved object in checkpoint: (root).optimizer.iter\n",
      "W0710 06:21:13.266591 140640123414272 util.py:244] Unresolved object in checkpoint: (root).optimizer.decay\n",
      "W0710 06:21:13.267316 140640123414272 util.py:244] Unresolved object in checkpoint: (root).optimizer.learning_rate\n",
      "W0710 06:21:13.268009 140640123414272 util.py:244] Unresolved object in checkpoint: (root).optimizer.momentum\n",
      "W0710 06:21:13.268738 140640123414272 util.py:244] Unresolved object in checkpoint: (root).optimizer.rho\n",
      "W0710 06:21:13.269465 140640123414272 util.py:244] Unresolved object in checkpoint: (root).optimizer's state 'rms' for (root).layer_with_weights-0.kernel\n",
      "W0710 06:21:13.270203 140640123414272 util.py:244] Unresolved object in checkpoint: (root).optimizer's state 'rms' for (root).layer_with_weights-0.bias\n",
      "W0710 06:21:13.270933 140640123414272 util.py:244] Unresolved object in checkpoint: (root).optimizer's state 'rms' for (root).layer_with_weights-1.kernel\n",
      "W0710 06:21:13.271664 140640123414272 util.py:244] Unresolved object in checkpoint: (root).optimizer's state 'rms' for (root).layer_with_weights-1.bias\n",
      "W0710 06:21:13.272361 140640123414272 util.py:244] Unresolved object in checkpoint: (root).optimizer's state 'rms' for (root).layer_with_weights-2.kernel\n",
      "W0710 06:21:13.273082 140640123414272 util.py:244] Unresolved object in checkpoint: (root).optimizer's state 'rms' for (root).layer_with_weights-2.bias\n",
      "W0710 06:21:13.273771 140640123414272 util.py:252] A checkpoint was restored (e.g. tf.train.Checkpoint.restore or tf.keras.Model.load_weights) but not all checkpointed values were used. See above for specific issues. Use expect_partial() on the load status object, e.g. tf.train.Checkpoint.restore(...).expect_partial(), to silence these warnings, or use assert_consumed() to make the check explicit. See https://www.tensorflow.org/alpha/guide/checkpoints#loading_mechanics for details.\n"
     ]
    }
   ],
   "source": [
    "# 当然也可以一步到位\n",
    "model.save('path_to_my_model.h5')\n",
    "del model\n",
    "model = keras.models.load_model('path_to_my_model.h5')\n"
   ]
  },
  {
   "cell_type": "code",
   "execution_count": 19,
   "metadata": {},
   "outputs": [],
   "source": [
    "# 1.6保存网络权重为SavedModel格式"
   ]
  },
  {
   "cell_type": "code",
   "execution_count": 20,
   "metadata": {},
   "outputs": [],
   "source": [
    "model.save_weights('weight_tf_savedmodel')\n",
    "model.save_weights('weight_tf_savedmodel_h5', save_format='h5')\n"
   ]
  },
  {
   "cell_type": "code",
   "execution_count": 21,
   "metadata": {},
   "outputs": [],
   "source": [
    "# 1.7子类模型参数保存\n",
    "# 子类模型的结构无法保存和序列化，只能保持参数"
   ]
  },
  {
   "cell_type": "code",
   "execution_count": 22,
   "metadata": {},
   "outputs": [],
   "source": [
    "# 构建模型\n",
    "class ThreeLayerMLP(keras.Model):\n",
    "  \n",
    "    def __init__(self, name=None):\n",
    "        super(ThreeLayerMLP, self).__init__(name=name)\n",
    "        self.dense_1 = layers.Dense(64, activation='relu', name='dense_1')\n",
    "        self.dense_2 = layers.Dense(64, activation='relu', name='dense_2')\n",
    "        self.pred_layer = layers.Dense(10, activation='softmax', name='predictions')\n",
    "\n",
    "    def call(self, inputs):\n",
    "        x = self.dense_1(inputs)\n",
    "        x = self.dense_2(x)\n",
    "        return self.pred_layer(x)\n",
    "\n",
    "def get_model():\n",
    "    return ThreeLayerMLP(name='3_layer_mlp')\n",
    "\n",
    "model = get_model()\n"
   ]
  },
  {
   "cell_type": "code",
   "execution_count": 23,
   "metadata": {},
   "outputs": [
    {
     "name": "stdout",
     "output_type": "stream",
     "text": [
      "Train on 60000 samples\n",
      "60000/60000 [==============================] - 5s 79us/sample - loss: 0.3199\n"
     ]
    }
   ],
   "source": [
    "# 训练模型\n",
    "(x_train, y_train), (x_test, y_test) = keras.datasets.mnist.load_data()\n",
    "x_train = x_train.reshape(60000, 784).astype('float32') / 255\n",
    "x_test = x_test.reshape(10000, 784).astype('float32') / 255\n",
    "\n",
    "model.compile(loss='sparse_categorical_crossentropy',\n",
    "              optimizer=keras.optimizers.RMSprop())\n",
    "history = model.fit(x_train, y_train,\n",
    "                    batch_size=64,\n",
    "                    epochs=1)\n"
   ]
  },
  {
   "cell_type": "code",
   "execution_count": 24,
   "metadata": {},
   "outputs": [],
   "source": [
    "# 保持权重参数\n",
    "model.save_weights('my_model_weights', save_format='tf')\n",
    "\n",
    "# 输出结果，供后面对比\n",
    "\n",
    "predictions = model.predict(x_test)\n",
    "first_batch_loss = model.train_on_batch(x_train[:64], y_train[:64])\n",
    "\n"
   ]
  },
  {
   "cell_type": "code",
   "execution_count": null,
   "metadata": {},
   "outputs": [],
   "source": []
  }
 ],
 "metadata": {
  "kernelspec": {
   "display_name": "Python 3",
   "language": "python",
   "name": "python3"
  },
  "language_info": {
   "codemirror_mode": {
    "name": "ipython",
    "version": 3
   },
   "file_extension": ".py",
   "mimetype": "text/x-python",
   "name": "python",
   "nbconvert_exporter": "python",
   "pygments_lexer": "ipython3",
   "version": "3.5.2"
  }
 },
 "nbformat": 4,
 "nbformat_minor": 2
}
