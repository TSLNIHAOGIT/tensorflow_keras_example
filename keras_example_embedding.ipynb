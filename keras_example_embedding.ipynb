{
 "cells": [
  {
   "cell_type": "code",
   "execution_count": 1,
   "metadata": {},
   "outputs": [
    {
     "name": "stdout",
     "output_type": "stream",
     "text": [
      "1 Physical GPUs, 1 Logical GPUs\n"
     ]
    }
   ],
   "source": [
    "import tensorflow as tf\n",
    "from tensorflow.keras import layers\n",
    "from tensorflow import keras\n",
    "gpus = tf.config.experimental.list_physical_devices('GPU')\n",
    "if gpus:\n",
    "  # Restrict TensorFlow to only allocate 1GB of memory on the first GPU\n",
    "  try:\n",
    "    tf.config.experimental.set_virtual_device_configuration(\n",
    "        gpus[0],\n",
    "        [tf.config.experimental.VirtualDeviceConfiguration(memory_limit=1500)])\n",
    "    logical_gpus = tf.config.experimental.list_logical_devices('GPU')\n",
    "    print(len(gpus), \"Physical GPUs,\", len(logical_gpus), \"Logical GPUs\")\n",
    "  except RuntimeError as e:\n",
    "    # Virtual devices must be set before GPUs have been initialized\n",
    "    print(e)"
   ]
  },
  {
   "cell_type": "code",
   "execution_count": 3,
   "metadata": {},
   "outputs": [],
   "source": [
    "# TensorFlow2.0教程-词嵌入\n"
   ]
  },
  {
   "cell_type": "code",
   "execution_count": 6,
   "metadata": {},
   "outputs": [
    {
     "name": "stdout",
     "output_type": "stream",
     "text": [
      "[1, 14, 22, 16, 43, 530, 973, 1622, 1385, 65, 458, 4468, 66, 3941, 4, 173, 36, 256, 5, 25, 100, 43, 838, 112, 50, 670, 2, 9, 35, 480, 284, 5, 150, 4, 172, 112, 167, 2, 336, 385, 39, 4, 172, 4536, 1111, 17, 546, 38, 13, 447, 4, 192, 50, 16, 6, 147, 2025, 19, 14, 22, 4, 1920, 4613, 469, 4, 22, 71, 87, 12, 16, 43, 530, 38, 76, 15, 13, 1247, 4, 22, 17, 515, 17, 12, 16, 626, 18, 2, 5, 62, 386, 12, 8, 316, 8, 106, 5, 4, 2223, 5244, 16, 480, 66, 3785, 33, 4, 130, 12, 16, 38, 619, 5, 25, 124, 51, 36, 135, 48, 25, 1415, 33, 6, 22, 12, 215, 28, 77, 52, 5, 14, 407, 16, 82, 2, 8, 4, 107, 117, 5952, 15, 256, 4, 2, 7, 3766, 5, 723, 36, 71, 43, 530, 476, 26, 400, 317, 46, 7, 4, 2, 1029, 13, 104, 88, 4, 381, 15, 297, 98, 32, 2071, 56, 26, 141, 6, 194, 7486, 18, 4, 226, 22, 21, 134, 476, 26, 480, 5, 144, 30, 5535, 18, 51, 36, 28, 224, 92, 25, 104, 4, 226, 65, 16, 38, 1334, 88, 12, 16, 283, 5, 16, 4472, 113, 103, 32, 15, 16, 5345, 19, 178, 32]\n",
      "[1, 194, 1153, 194, 8255, 78, 228, 5, 6, 1463, 4369, 5012, 134, 26, 4, 715, 8, 118, 1634, 14, 394, 20, 13, 119, 954, 189, 102, 5, 207, 110, 3103, 21, 14, 69, 188, 8, 30, 23, 7, 4, 249, 126, 93, 4, 114, 9, 2300, 1523, 5, 647, 4, 116, 9, 35, 8163, 4, 229, 9, 340, 1322, 4, 118, 9, 4, 130, 4901, 19, 4, 1002, 5, 89, 29, 952, 46, 37, 4, 455, 9, 45, 43, 38, 1543, 1905, 398, 4, 1649, 26, 6853, 5, 163, 11, 3215, 2, 4, 1153, 9, 194, 775, 7, 8255, 2, 349, 2637, 148, 605, 2, 8003, 15, 123, 125, 68, 2, 6853, 15, 349, 165, 4362, 98, 5, 4, 228, 9, 43, 2, 1157, 15, 299, 120, 5, 120, 174, 11, 220, 175, 136, 50, 9, 4373, 228, 8255, 5, 2, 656, 245, 2350, 5, 4, 9837, 131, 152, 491, 18, 2, 32, 7464, 1212, 14, 9, 6, 371, 78, 22, 625, 64, 1382, 9, 8, 168, 145, 23, 4, 1690, 15, 16, 4, 1355, 5, 28, 6, 52, 154, 462, 33, 89, 78, 285, 16, 145, 95]\n",
      "Downloading data from https://storage.googleapis.com/tensorflow/tf-keras-datasets/imdb_word_index.json\n",
      "1646592/1641221 [==============================] - 0s 0us/step\n",
      "<START> this film was just brilliant casting location scenery story direction everyone's really suited the part they played and you could just imagine being there robert <UNK> is an amazing actor and now the same being director <UNK> father came from the same scottish island as myself so i loved the fact there was a real connection with this film the witty remarks throughout the film were great it was just brilliant so much that i bought the film as soon as it was released for <UNK> and would recommend it to everyone to watch and the fly fishing was amazing really cried at the end it was so sad and you know what they say if you cry at a film it must have been good and this definitely was also <UNK> to the two little boy's that played the <UNK> of norman and paul they were just brilliant children are often left out of the <UNK> list i think because the stars that play them all grown up are such a big profile for the whole film but these children are amazing and should be praised for what they have done don't you think the whole story was so lovely because it was true and was someone's life after all that was shared with us all\n"
     ]
    }
   ],
   "source": [
    "# 1.载入数据\n",
    "vocab_size = 10000\n",
    "(train_x, train_y), (test_x, text_y) = keras.datasets.imdb.load_data(num_words=vocab_size)\n",
    "print(train_x[0])\n",
    "print(train_x[1])\n",
    "[1, 14, 22, 16, 43, 530, 973, 1622, 1385, 65, 458, 4468, 66, 3941, 4, 173, 36, 256, 5, 25, 100, 43, 838, 112, 50, 670, 2, 9, 35, 480, 284, 5, 150, 4, 172, 112, 167, 2, 336, 385, 39, 4, 172, 4536, 1111, 17, 546, 38, 13, 447, 4, 192, 50, 16, 6, 147, 2025, 19, 14, 22, 4, 1920, 4613, 469, 4, 22, 71, 87, 12, 16, 43, 530, 38, 76, 15, 13, 1247, 4, 22, 17, 515, 17, 12, 16, 626, 18, 2, 5, 62, 386, 12, 8, 316, 8, 106, 5, 4, 2223, 5244, 16, 480, 66, 3785, 33, 4, 130, 12, 16, 38, 619, 5, 25, 124, 51, 36, 135, 48, 25, 1415, 33, 6, 22, 12, 215, 28, 77, 52, 5, 14, 407, 16, 82, 2, 8, 4, 107, 117, 5952, 15, 256, 4, 2, 7, 3766, 5, 723, 36, 71, 43, 530, 476, 26, 400, 317, 46, 7, 4, 2, 1029, 13, 104, 88, 4, 381, 15, 297, 98, 32, 2071, 56, 26, 141, 6, 194, 7486, 18, 4, 226, 22, 21, 134, 476, 26, 480, 5, 144, 30, 5535, 18, 51, 36, 28, 224, 92, 25, 104, 4, 226, 65, 16, 38, 1334, 88, 12, 16, 283, 5, 16, 4472, 113, 103, 32, 15, 16, 5345, 19, 178, 32]\n",
    "[1, 194, 1153, 194, 8255, 78, 228, 5, 6, 1463, 4369, 5012, 134, 26, 4, 715, 8, 118, 1634, 14, 394, 20, 13, 119, 954, 189, 102, 5, 207, 110, 3103, 21, 14, 69, 188, 8, 30, 23, 7, 4, 249, 126, 93, 4, 114, 9, 2300, 1523, 5, 647, 4, 116, 9, 35, 8163, 4, 229, 9, 340, 1322, 4, 118, 9, 4, 130, 4901, 19, 4, 1002, 5, 89, 29, 952, 46, 37, 4, 455, 9, 45, 43, 38, 1543, 1905, 398, 4, 1649, 26, 6853, 5, 163, 11, 3215, 2, 4, 1153, 9, 194, 775, 7, 8255, 2, 349, 2637, 148, 605, 2, 8003, 15, 123, 125, 68, 2, 6853, 15, 349, 165, 4362, 98, 5, 4, 228, 9, 43, 2, 1157, 15, 299, 120, 5, 120, 174, 11, 220, 175, 136, 50, 9, 4373, 228, 8255, 5, 2, 656, 245, 2350, 5, 4, 9837, 131, 152, 491, 18, 2, 32, 7464, 1212, 14, 9, 6, 371, 78, 22, 625, 64, 1382, 9, 8, 168, 145, 23, 4, 1690, 15, 16, 4, 1355, 5, 28, 6, 52, 154, 462, 33, 89, 78, 285, 16, 145, 95]\n",
    "word_index = keras.datasets.imdb.get_word_index()\n",
    "word_index = {k:(v+3) for k,v in word_index.items()}\n",
    "word_index['<PAD>'] = 0\n",
    "word_index['<START>'] = 1\n",
    "word_index['<UNK>'] = 2\n",
    "word_index['<UNUSED>'] = 3\n",
    "reverse_word_index = {v:k for k, v in word_index.items()}\n",
    "def decode_review(text):\n",
    "    return ' '.join([reverse_word_index.get(i, '?') for i in text])\n",
    "print(decode_review(train_x[0]))\n",
    "# <START> this film was just brilliant casting location scenery story direction everyone's really suited the part they played and you could just imagine being there robert <UNK> is an amazing actor and now the same being director <UNK> father came from the same scottish island as myself so i loved the fact there was a real connection with this film the witty remarks throughout the film were great it was just brilliant so much that i bought the film as soon as it was released for <UNK> and would recommend it to everyone to watch and the fly fishing was amazing really cried at the end it was so sad and you know what they say if you cry at a film it must have been good and this definitely was also <UNK> to the two little boy's that played the <UNK> of norman and paul they were just brilliant children are often left out of the <UNK> list i think because the stars that play them all grown up are such a big profile for the whole film but these children are amazing and should be praised for what they have done don't you think the whole story was so lovely because it was true and was someone's life after all that was shared with us all\n",
    "maxlen = 500\n",
    "train_x = keras.preprocessing.sequence.pad_sequences(train_x,value=word_index['<PAD>'],\n",
    "                                                    padding='post', maxlen=maxlen)\n",
    "test_x = keras.preprocessing.sequence.pad_sequences(test_x,value=word_index['<PAD>'],\n",
    "                                                    padding='post', maxlen=maxlen)\n"
   ]
  },
  {
   "cell_type": "code",
   "execution_count": 7,
   "metadata": {},
   "outputs": [
    {
     "name": "stdout",
     "output_type": "stream",
     "text": [
      "Model: \"sequential\"\n",
      "_________________________________________________________________\n",
      "Layer (type)                 Output Shape              Param #   \n",
      "=================================================================\n",
      "embedding (Embedding)        (None, 500, 16)           160000    \n",
      "_________________________________________________________________\n",
      "global_average_pooling1d (Gl (None, 16)                0         \n",
      "_________________________________________________________________\n",
      "dense (Dense)                (None, 16)                272       \n",
      "_________________________________________________________________\n",
      "dense_1 (Dense)              (None, 1)                 17        \n",
      "=================================================================\n",
      "Total params: 160,289\n",
      "Trainable params: 160,289\n",
      "Non-trainable params: 0\n",
      "_________________________________________________________________\n"
     ]
    }
   ],
   "source": [
    "# 2.构建模型\n",
    "embedding_dim = 16\n",
    "model = keras.Sequential([\n",
    "    layers.Embedding(vocab_size, embedding_dim, input_length=maxlen),\n",
    "    layers.GlobalAveragePooling1D(),\n",
    "    layers.Dense(16, activation='relu'),\n",
    "    layers.Dense(1, activation='sigmoid')\n",
    "\n",
    "])\n",
    "model.summary()\n"
   ]
  },
  {
   "cell_type": "code",
   "execution_count": 8,
   "metadata": {},
   "outputs": [
    {
     "name": "stderr",
     "output_type": "stream",
     "text": [
      "WARNING: Logging before flag parsing goes to stderr.\n",
      "W0713 03:08:50.769914 140707652617984 deprecation.py:323] From /usr/local/lib/python3.5/dist-packages/tensorflow/python/ops/math_grad.py:1250: add_dispatch_support.<locals>.wrapper (from tensorflow.python.ops.array_ops) is deprecated and will be removed in a future version.\n",
      "Instructions for updating:\n",
      "Use tf.where in 2.0, which has the same broadcast rule as np.where\n"
     ]
    },
    {
     "name": "stdout",
     "output_type": "stream",
     "text": [
      "Train on 22500 samples, validate on 2500 samples\n",
      "Epoch 1/30\n",
      "22500/22500 [==============================] - 2s 109us/sample - loss: 0.6914 - accuracy: 0.5982 - val_loss: 0.6886 - val_accuracy: 0.6664\n",
      "Epoch 2/30\n",
      "22500/22500 [==============================] - 2s 80us/sample - loss: 0.6824 - accuracy: 0.7153 - val_loss: 0.6734 - val_accuracy: 0.7364\n",
      "Epoch 3/30\n",
      "22500/22500 [==============================] - 2s 79us/sample - loss: 0.6602 - accuracy: 0.7491 - val_loss: 0.6435 - val_accuracy: 0.7760\n",
      "Epoch 4/30\n",
      "22500/22500 [==============================] - 2s 84us/sample - loss: 0.6215 - accuracy: 0.7875 - val_loss: 0.5978 - val_accuracy: 0.7924\n",
      "Epoch 5/30\n",
      "22500/22500 [==============================] - 2s 81us/sample - loss: 0.5696 - accuracy: 0.8112 - val_loss: 0.5452 - val_accuracy: 0.8136\n",
      "Epoch 6/30\n",
      "22500/22500 [==============================] - 2s 81us/sample - loss: 0.5126 - accuracy: 0.8309 - val_loss: 0.4938 - val_accuracy: 0.8356\n",
      "Epoch 7/30\n",
      "22500/22500 [==============================] - 2s 80us/sample - loss: 0.4586 - accuracy: 0.8520 - val_loss: 0.4488 - val_accuracy: 0.8544\n",
      "Epoch 8/30\n",
      "22500/22500 [==============================] - 2s 80us/sample - loss: 0.4114 - accuracy: 0.8675 - val_loss: 0.4130 - val_accuracy: 0.8560\n",
      "Epoch 9/30\n",
      "22500/22500 [==============================] - 2s 78us/sample - loss: 0.3734 - accuracy: 0.8772 - val_loss: 0.3841 - val_accuracy: 0.8644\n",
      "Epoch 10/30\n",
      "22500/22500 [==============================] - 2s 79us/sample - loss: 0.3426 - accuracy: 0.8852 - val_loss: 0.3628 - val_accuracy: 0.8708\n",
      "Epoch 11/30\n",
      "22500/22500 [==============================] - 2s 83us/sample - loss: 0.3174 - accuracy: 0.8931 - val_loss: 0.3498 - val_accuracy: 0.8652\n",
      "Epoch 12/30\n",
      "22500/22500 [==============================] - 2s 78us/sample - loss: 0.2967 - accuracy: 0.8989 - val_loss: 0.3340 - val_accuracy: 0.8736\n",
      "Epoch 13/30\n",
      "22500/22500 [==============================] - 2s 81us/sample - loss: 0.2795 - accuracy: 0.9038 - val_loss: 0.3241 - val_accuracy: 0.8768\n",
      "Epoch 14/30\n",
      "22500/22500 [==============================] - 2s 87us/sample - loss: 0.2642 - accuracy: 0.9094 - val_loss: 0.3164 - val_accuracy: 0.8812\n",
      "Epoch 15/30\n",
      "22500/22500 [==============================] - 2s 100us/sample - loss: 0.2508 - accuracy: 0.9148 - val_loss: 0.3105 - val_accuracy: 0.8824\n",
      "Epoch 16/30\n",
      "22500/22500 [==============================] - 2s 84us/sample - loss: 0.2406 - accuracy: 0.9159 - val_loss: 0.3118 - val_accuracy: 0.8736\n",
      "Epoch 17/30\n",
      "22500/22500 [==============================] - 2s 80us/sample - loss: 0.2296 - accuracy: 0.9189 - val_loss: 0.3002 - val_accuracy: 0.8836\n",
      "Epoch 18/30\n",
      "22500/22500 [==============================] - 2s 79us/sample - loss: 0.2194 - accuracy: 0.9238 - val_loss: 0.2974 - val_accuracy: 0.8844\n",
      "Epoch 19/30\n",
      "22500/22500 [==============================] - 2s 85us/sample - loss: 0.2104 - accuracy: 0.9274 - val_loss: 0.2947 - val_accuracy: 0.8844\n",
      "Epoch 20/30\n",
      "22500/22500 [==============================] - 2s 81us/sample - loss: 0.2028 - accuracy: 0.9308 - val_loss: 0.2926 - val_accuracy: 0.8848\n",
      "Epoch 21/30\n",
      "22500/22500 [==============================] - 2s 82us/sample - loss: 0.1954 - accuracy: 0.9326 - val_loss: 0.2911 - val_accuracy: 0.8852\n",
      "Epoch 22/30\n",
      "22500/22500 [==============================] - 2s 82us/sample - loss: 0.1877 - accuracy: 0.9363 - val_loss: 0.2900 - val_accuracy: 0.8884\n",
      "Epoch 23/30\n",
      "22500/22500 [==============================] - 2s 79us/sample - loss: 0.1817 - accuracy: 0.9385 - val_loss: 0.2896 - val_accuracy: 0.8888\n",
      "Epoch 24/30\n",
      "22500/22500 [==============================] - 2s 80us/sample - loss: 0.1756 - accuracy: 0.9417 - val_loss: 0.2889 - val_accuracy: 0.8892\n",
      "Epoch 25/30\n",
      "22500/22500 [==============================] - 2s 79us/sample - loss: 0.1700 - accuracy: 0.9444 - val_loss: 0.2897 - val_accuracy: 0.8904\n",
      "Epoch 26/30\n",
      "22500/22500 [==============================] - 2s 79us/sample - loss: 0.1654 - accuracy: 0.9441 - val_loss: 0.2903 - val_accuracy: 0.8896\n",
      "Epoch 27/30\n",
      "22500/22500 [==============================] - 2s 79us/sample - loss: 0.1591 - accuracy: 0.9484 - val_loss: 0.2910 - val_accuracy: 0.8896\n",
      "Epoch 28/30\n",
      "22500/22500 [==============================] - 2s 86us/sample - loss: 0.1543 - accuracy: 0.9493 - val_loss: 0.2929 - val_accuracy: 0.8924\n",
      "Epoch 29/30\n",
      "22500/22500 [==============================] - 2s 80us/sample - loss: 0.1495 - accuracy: 0.9515 - val_loss: 0.2935 - val_accuracy: 0.8900\n",
      "Epoch 30/30\n",
      "22500/22500 [==============================] - 2s 79us/sample - loss: 0.1450 - accuracy: 0.9526 - val_loss: 0.2955 - val_accuracy: 0.8908\n"
     ]
    }
   ],
   "source": [
    "model.compile(optimizer=keras.optimizers.Adam(),\n",
    "             loss=keras.losses.BinaryCrossentropy(),\n",
    "             metrics=['accuracy'])\n",
    "history = model.fit(train_x, train_y, epochs=30, batch_size=512, validation_split=0.1)"
   ]
  },
  {
   "cell_type": "code",
   "execution_count": 10,
   "metadata": {},
   "outputs": [
    {
     "data": {
      "image/png": "[encoded data removed]",
      "text/plain": [
       "<Figure size 432x288 with 1 Axes>"
      ]
     },
     "metadata": {
      "needs_background": "light"
     },
     "output_type": "display_data"
    },
    {
     "data": {
      "text/plain": [
       "<Figure size 1152x648 with 0 Axes>"
      ]
     },
     "metadata": {},
     "output_type": "display_data"
    }
   ],
   "source": [
    "import matplotlib.pyplot as plt\n",
    "\n",
    "acc = history.history['accuracy']\n",
    "val_acc = history.history['val_accuracy']\n",
    "\n",
    "epochs = range(1, len(acc) + 1)\n",
    "\n",
    "plt.plot(epochs, acc, 'bo', label='Training acc')\n",
    "plt.plot(epochs, val_acc, 'b', label='Validation acc')\n",
    "plt.title('Training and validation accuracy')\n",
    "plt.xlabel('Epochs')\n",
    "plt.ylabel('Accuracy')\n",
    "plt.legend(loc='lower right')\n",
    "plt.figure(figsize=(16,9))\n",
    "\n",
    "plt.show()"
   ]
  },
  {
   "cell_type": "code",
   "execution_count": 11,
   "metadata": {},
   "outputs": [],
   "source": [
    "# 3.导出词嵌入"
   ]
  },
  {
   "cell_type": "code",
   "execution_count": 12,
   "metadata": {},
   "outputs": [
    {
     "name": "stdout",
     "output_type": "stream",
     "text": [
      "(10000, 16)\n"
     ]
    }
   ],
   "source": [
    "e = model.layers[0]\n",
    "weights = e.get_weights()[0]\n",
    "print(weights.shape)\n",
    "(10000, 16)\n",
    "out_v = open('vecs.tsv', 'w')\n",
    "out_m = open('meta.tsv', 'w')\n",
    "for word_num in range(vocab_size):\n",
    "    word = reverse_word_index[word_num]\n",
    "    embeddings = weights[word_num]\n",
    "    out_m.write(word + \"\\n\")\n",
    "    out_v.write('\\t'.join([str(x) for x in embeddings]) + \"\\n\")\n",
    "out_v.close()\n",
    "out_m.close()"
   ]
  },
  {
   "cell_type": "code",
   "execution_count": null,
   "metadata": {},
   "outputs": [],
   "source": []
  }
 ],
 "metadata": {
  "kernelspec": {
   "display_name": "Python 3",
   "language": "python",
   "name": "python3"
  },
  "language_info": {
   "codemirror_mode": {
    "name": "ipython",
    "version": 3
   },
   "file_extension": ".py",
   "mimetype": "text/x-python",
   "name": "python",
   "nbconvert_exporter": "python",
   "pygments_lexer": "ipython3",
   "version": "3.5.2"
  }
 },
 "nbformat": 4,
 "nbformat_minor": 2
}
