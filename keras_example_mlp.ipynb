{
 "cells": [
  {
   "cell_type": "code",
   "execution_count": 2,
   "metadata": {},
   "outputs": [],
   "source": [
    "import tensorflow as tf\n",
    "from tensorflow.keras import layers\n",
    "from tensorflow import keras"
   ]
  },
  {
   "cell_type": "code",
   "execution_count": 1,
   "metadata": {},
   "outputs": [],
   "source": [
    "# 1.回归任务"
   ]
  },
  {
   "cell_type": "code",
   "execution_count": 4,
   "metadata": {},
   "outputs": [
    {
     "name": "stdout",
     "output_type": "stream",
     "text": [
      "Downloading data from https://storage.googleapis.com/tensorflow/tf-keras-datasets/boston_housing.npz\n",
      "57344/57026 [==============================] - 0s 7us/step\n",
      "(404, 13)   (404,)\n",
      "(102, 13)   (102,)\n"
     ]
    }
   ],
   "source": [
    "# 导入数据\n",
    "(x_train, y_train), (x_test, y_test) = keras.datasets.boston_housing.load_data()\n",
    "print(x_train.shape, ' ', y_train.shape)\n",
    "print(x_test.shape, ' ', y_test.shape)\n",
    "\n"
   ]
  },
  {
   "cell_type": "code",
   "execution_count": 5,
   "metadata": {},
   "outputs": [
    {
     "name": "stdout",
     "output_type": "stream",
     "text": [
      "Model: \"sequential\"\n",
      "_________________________________________________________________\n",
      "Layer (type)                 Output Shape              Param #   \n",
      "=================================================================\n",
      "dense (Dense)                (None, 32)                448       \n",
      "_________________________________________________________________\n",
      "dense_1 (Dense)              (None, 32)                1056      \n",
      "_________________________________________________________________\n",
      "dense_2 (Dense)              (None, 32)                1056      \n",
      "_________________________________________________________________\n",
      "dense_3 (Dense)              (None, 1)                 33        \n",
      "=================================================================\n",
      "Total params: 2,593\n",
      "Trainable params: 2,593\n",
      "Non-trainable params: 0\n",
      "_________________________________________________________________\n"
     ]
    }
   ],
   "source": [
    "# 构建模型\n",
    "\n",
    "model = keras.Sequential([\n",
    "    layers.Dense(32, activation='sigmoid', input_shape=(13,)),\n",
    "    layers.Dense(32, activation='sigmoid'),\n",
    "    layers.Dense(32, activation='sigmoid'),\n",
    "    layers.Dense(1)\n",
    "])\n",
    "\n",
    "# 配置模型\n",
    "model.compile(optimizer=keras.optimizers.SGD(0.1),\n",
    "             loss='mean_squared_error',  # keras.losses.mean_squared_error\n",
    "             metrics=['mse'])\n",
    "model.summary()\n"
   ]
  },
  {
   "cell_type": "code",
   "execution_count": 6,
   "metadata": {},
   "outputs": [
    {
     "name": "stdout",
     "output_type": "stream",
     "text": [
      "Train on 363 samples, validate on 41 samples\n",
      "Epoch 1/50\n",
      "363/363 [==============================] - 0s 1ms/sample - loss: 382.8327 - mse: 382.8327 - val_loss: 56.5284 - val_mse: 56.5284\n",
      "Epoch 2/50\n",
      "363/363 [==============================] - 0s 90us/sample - loss: 90.8232 - mse: 90.8232 - val_loss: 42.7919 - val_mse: 42.7919\n",
      "Epoch 3/50\n",
      "363/363 [==============================] - 0s 83us/sample - loss: 90.8096 - mse: 90.8096 - val_loss: 48.7821 - val_mse: 48.7821\n",
      "Epoch 4/50\n",
      "363/363 [==============================] - 0s 94us/sample - loss: 91.3200 - mse: 91.3200 - val_loss: 43.5384 - val_mse: 43.5384\n",
      "Epoch 5/50\n",
      "363/363 [==============================] - 0s 86us/sample - loss: 89.3641 - mse: 89.3641 - val_loss: 50.8191 - val_mse: 50.8191\n",
      "Epoch 6/50\n",
      "363/363 [==============================] - 0s 99us/sample - loss: 89.5997 - mse: 89.5997 - val_loss: 44.3389 - val_mse: 44.3389\n",
      "Epoch 7/50\n",
      "363/363 [==============================] - 0s 104us/sample - loss: 89.6615 - mse: 89.6615 - val_loss: 47.8334 - val_mse: 47.8334\n",
      "Epoch 8/50\n",
      "363/363 [==============================] - 0s 94us/sample - loss: 90.4622 - mse: 90.4622 - val_loss: 42.6816 - val_mse: 42.6816\n",
      "Epoch 9/50\n",
      "363/363 [==============================] - 0s 93us/sample - loss: 90.6927 - mse: 90.6927 - val_loss: 48.8371 - val_mse: 48.8371\n",
      "Epoch 10/50\n",
      "363/363 [==============================] - 0s 89us/sample - loss: 89.9859 - mse: 89.9859 - val_loss: 43.4694 - val_mse: 43.4694\n",
      "Epoch 11/50\n",
      "363/363 [==============================] - 0s 96us/sample - loss: 89.7428 - mse: 89.7428 - val_loss: 43.8600 - val_mse: 43.8600\n",
      "Epoch 12/50\n",
      "363/363 [==============================] - 0s 91us/sample - loss: 92.8554 - mse: 92.8554 - val_loss: 43.1280 - val_mse: 43.1280\n",
      "Epoch 13/50\n",
      "363/363 [==============================] - 0s 95us/sample - loss: 91.6213 - mse: 91.6213 - val_loss: 43.5675 - val_mse: 43.5675\n",
      "Epoch 14/50\n",
      "363/363 [==============================] - 0s 93us/sample - loss: 91.9985 - mse: 91.9985 - val_loss: 42.7584 - val_mse: 42.7584\n",
      "Epoch 15/50\n",
      "363/363 [==============================] - 0s 94us/sample - loss: 89.8807 - mse: 89.8807 - val_loss: 45.9494 - val_mse: 45.9494\n",
      "Epoch 16/50\n",
      "363/363 [==============================] - 0s 95us/sample - loss: 90.0948 - mse: 90.0948 - val_loss: 46.1945 - val_mse: 46.1945\n",
      "Epoch 17/50\n",
      "363/363 [==============================] - 0s 98us/sample - loss: 90.7285 - mse: 90.7285 - val_loss: 50.4565 - val_mse: 50.4565\n",
      "Epoch 18/50\n",
      "363/363 [==============================] - 0s 93us/sample - loss: 92.5148 - mse: 92.5148 - val_loss: 45.1711 - val_mse: 45.1711\n",
      "Epoch 19/50\n",
      "363/363 [==============================] - 0s 95us/sample - loss: 91.1623 - mse: 91.1623 - val_loss: 43.3363 - val_mse: 43.3363\n",
      "Epoch 20/50\n",
      "363/363 [==============================] - 0s 84us/sample - loss: 90.9681 - mse: 90.9681 - val_loss: 42.6767 - val_mse: 42.6767\n",
      "Epoch 21/50\n",
      "363/363 [==============================] - 0s 100us/sample - loss: 90.4446 - mse: 90.4446 - val_loss: 42.7071 - val_mse: 42.7071\n",
      "Epoch 22/50\n",
      "363/363 [==============================] - 0s 101us/sample - loss: 90.8307 - mse: 90.8307 - val_loss: 42.6970 - val_mse: 42.6970\n",
      "Epoch 23/50\n",
      "363/363 [==============================] - 0s 100us/sample - loss: 89.4665 - mse: 89.4665 - val_loss: 42.8400 - val_mse: 42.8400\n",
      "Epoch 24/50\n",
      "363/363 [==============================] - 0s 88us/sample - loss: 89.4894 - mse: 89.4894 - val_loss: 42.7711 - val_mse: 42.7711\n",
      "Epoch 25/50\n",
      "363/363 [==============================] - 0s 86us/sample - loss: 90.3087 - mse: 90.3087 - val_loss: 42.7551 - val_mse: 42.7551\n",
      "Epoch 26/50\n",
      "363/363 [==============================] - 0s 76us/sample - loss: 91.2064 - mse: 91.2064 - val_loss: 66.6888 - val_mse: 66.6888\n",
      "Epoch 27/50\n",
      "363/363 [==============================] - 0s 87us/sample - loss: 90.7904 - mse: 90.7904 - val_loss: 44.1421 - val_mse: 44.1421\n",
      "Epoch 28/50\n",
      "363/363 [==============================] - 0s 85us/sample - loss: 90.2418 - mse: 90.2418 - val_loss: 42.8327 - val_mse: 42.8327\n",
      "Epoch 29/50\n",
      "363/363 [==============================] - 0s 92us/sample - loss: 90.4471 - mse: 90.4471 - val_loss: 52.9393 - val_mse: 52.9393\n",
      "Epoch 30/50\n",
      "363/363 [==============================] - 0s 91us/sample - loss: 90.9283 - mse: 90.9283 - val_loss: 55.5966 - val_mse: 55.5966\n",
      "Epoch 31/50\n",
      "363/363 [==============================] - 0s 97us/sample - loss: 90.3090 - mse: 90.3090 - val_loss: 43.3494 - val_mse: 43.3494\n",
      "Epoch 32/50\n",
      "363/363 [==============================] - 0s 89us/sample - loss: 90.0723 - mse: 90.0723 - val_loss: 46.8473 - val_mse: 46.8473\n",
      "Epoch 33/50\n",
      "363/363 [==============================] - 0s 94us/sample - loss: 90.0094 - mse: 90.0094 - val_loss: 69.6230 - val_mse: 69.6230\n",
      "Epoch 34/50\n",
      "363/363 [==============================] - 0s 90us/sample - loss: 92.7367 - mse: 92.7367 - val_loss: 48.4662 - val_mse: 48.4662\n",
      "Epoch 35/50\n",
      "363/363 [==============================] - 0s 86us/sample - loss: 91.2701 - mse: 91.2701 - val_loss: 56.9295 - val_mse: 56.9295\n",
      "Epoch 36/50\n",
      "363/363 [==============================] - 0s 95us/sample - loss: 90.5530 - mse: 90.5530 - val_loss: 44.1070 - val_mse: 44.1070\n",
      "Epoch 37/50\n",
      "363/363 [==============================] - 0s 98us/sample - loss: 90.0367 - mse: 90.0367 - val_loss: 42.8354 - val_mse: 42.8354\n",
      "Epoch 38/50\n",
      "363/363 [==============================] - 0s 92us/sample - loss: 90.0444 - mse: 90.0444 - val_loss: 48.1463 - val_mse: 48.1463\n",
      "Epoch 39/50\n",
      "363/363 [==============================] - 0s 81us/sample - loss: 89.0889 - mse: 89.0889 - val_loss: 47.6547 - val_mse: 47.6547\n",
      "Epoch 40/50\n",
      "363/363 [==============================] - 0s 87us/sample - loss: 93.5164 - mse: 93.5164 - val_loss: 42.7748 - val_mse: 42.7748\n",
      "Epoch 41/50\n",
      "363/363 [==============================] - 0s 89us/sample - loss: 89.7377 - mse: 89.7377 - val_loss: 43.2671 - val_mse: 43.2671\n",
      "Epoch 42/50\n",
      "363/363 [==============================] - 0s 96us/sample - loss: 90.4592 - mse: 90.4592 - val_loss: 43.3089 - val_mse: 43.3089\n",
      "Epoch 43/50\n",
      "363/363 [==============================] - 0s 99us/sample - loss: 90.1735 - mse: 90.1735 - val_loss: 42.6622 - val_mse: 42.6622\n",
      "Epoch 44/50\n",
      "363/363 [==============================] - 0s 96us/sample - loss: 89.8127 - mse: 89.8127 - val_loss: 43.2579 - val_mse: 43.2579\n",
      "Epoch 45/50\n",
      "363/363 [==============================] - 0s 89us/sample - loss: 91.1073 - mse: 91.1073 - val_loss: 45.4986 - val_mse: 45.4986\n",
      "Epoch 46/50\n",
      "363/363 [==============================] - 0s 85us/sample - loss: 92.7396 - mse: 92.7395 - val_loss: 45.5026 - val_mse: 45.5026\n",
      "Epoch 47/50\n",
      "363/363 [==============================] - 0s 96us/sample - loss: 92.4229 - mse: 92.4229 - val_loss: 43.0476 - val_mse: 43.0476\n",
      "Epoch 48/50\n",
      "363/363 [==============================] - 0s 84us/sample - loss: 89.9125 - mse: 89.9125 - val_loss: 43.6582 - val_mse: 43.6582\n",
      "Epoch 49/50\n",
      "363/363 [==============================] - 0s 80us/sample - loss: 93.0254 - mse: 93.0255 - val_loss: 47.1162 - val_mse: 47.1162\n",
      "Epoch 50/50\n",
      "363/363 [==============================] - 0s 90us/sample - loss: 89.8222 - mse: 89.8222 - val_loss: 42.6836 - val_mse: 42.6836\n"
     ]
    },
    {
     "data": {
      "text/plain": [
       "<tensorflow.python.keras.callbacks.History at 0x7f255edf1908>"
      ]
     },
     "execution_count": 6,
     "metadata": {},
     "output_type": "execute_result"
    }
   ],
   "source": [
    "# 训练\n",
    "model.fit(x_train, y_train, batch_size=50, epochs=50, validation_split=0.1, verbose=1)\n"
   ]
  },
  {
   "cell_type": "code",
   "execution_count": 7,
   "metadata": {},
   "outputs": [
    {
     "name": "stdout",
     "output_type": "stream",
     "text": [
      "102/102 [==============================] - 0s 727us/sample - loss: 86.4951 - mse: 86.4951\n"
     ]
    }
   ],
   "source": [
    "result = model.evaluate(x_test, y_test)\n"
   ]
  },
  {
   "cell_type": "code",
   "execution_count": 9,
   "metadata": {},
   "outputs": [
    {
     "name": "stdout",
     "output_type": "stream",
     "text": [
      "['loss', 'mse']\n",
      "[86.49505106608073, 86.495056]\n"
     ]
    }
   ],
   "source": [
    "print(model.metrics_names)\n",
    "print(result)\n"
   ]
  },
  {
   "cell_type": "code",
   "execution_count": 10,
   "metadata": {},
   "outputs": [],
   "source": [
    "# 2.分类任务"
   ]
  },
  {
   "cell_type": "code",
   "execution_count": 11,
   "metadata": {},
   "outputs": [
    {
     "name": "stdout",
     "output_type": "stream",
     "text": [
      "(398, 30)   (398,)\n",
      "(171, 30)   (171,)\n"
     ]
    }
   ],
   "source": [
    "from sklearn.datasets import load_breast_cancer\n",
    "from sklearn.model_selection import train_test_split\n",
    "\n",
    "whole_data = load_breast_cancer()\n",
    "x_data = whole_data.data\n",
    "y_data = whole_data.target\n",
    "\n",
    "x_train, x_test, y_train, y_test = train_test_split(x_data, y_data, test_size=0.3, random_state=7)\n",
    "\n",
    "print(x_train.shape, ' ', y_train.shape)\n",
    "print(x_test.shape, ' ', y_test.shape)\n",
    "\n"
   ]
  },
  {
   "cell_type": "code",
   "execution_count": 12,
   "metadata": {},
   "outputs": [
    {
     "name": "stdout",
     "output_type": "stream",
     "text": [
      "Model: \"sequential_1\"\n",
      "_________________________________________________________________\n",
      "Layer (type)                 Output Shape              Param #   \n",
      "=================================================================\n",
      "dense_4 (Dense)              (None, 32)                992       \n",
      "_________________________________________________________________\n",
      "dense_5 (Dense)              (None, 32)                1056      \n",
      "_________________________________________________________________\n",
      "dense_6 (Dense)              (None, 1)                 33        \n",
      "=================================================================\n",
      "Total params: 2,081\n",
      "Trainable params: 2,081\n",
      "Non-trainable params: 0\n",
      "_________________________________________________________________\n"
     ]
    }
   ],
   "source": [
    "# 构建模型\n",
    "model = keras.Sequential([\n",
    "    layers.Dense(32, activation='relu', input_shape=(30,)),\n",
    "    layers.Dense(32, activation='relu'),\n",
    "    layers.Dense(1, activation='sigmoid')\n",
    "])\n",
    "\n",
    "model.compile(optimizer=keras.optimizers.Adam(),\n",
    "             loss=keras.losses.binary_crossentropy,\n",
    "             metrics=['accuracy'])\n",
    "model.summary()\n",
    "\n"
   ]
  },
  {
   "cell_type": "code",
   "execution_count": 13,
   "metadata": {},
   "outputs": [
    {
     "name": "stderr",
     "output_type": "stream",
     "text": [
      "WARNING: Logging before flag parsing goes to stderr.\n",
      "W0711 02:57:15.795526 139800605247232 deprecation.py:323] From /usr/local/lib/python3.5/dist-packages/tensorflow/python/ops/math_grad.py:1250: add_dispatch_support.<locals>.wrapper (from tensorflow.python.ops.array_ops) is deprecated and will be removed in a future version.\n",
      "Instructions for updating:\n",
      "Use tf.where in 2.0, which has the same broadcast rule as np.where\n"
     ]
    },
    {
     "name": "stdout",
     "output_type": "stream",
     "text": [
      "Train on 398 samples\n",
      "Epoch 1/10\n",
      "398/398 [==============================] - 0s 798us/sample - loss: 9.3402 - accuracy: 0.3945\n",
      "Epoch 2/10\n",
      "398/398 [==============================] - 0s 97us/sample - loss: 9.3402 - accuracy: 0.3945\n",
      "Epoch 3/10\n",
      "398/398 [==============================] - 0s 103us/sample - loss: 9.3402 - accuracy: 0.3945\n",
      "Epoch 4/10\n",
      "398/398 [==============================] - 0s 107us/sample - loss: 9.3402 - accuracy: 0.3945\n",
      "Epoch 5/10\n",
      "398/398 [==============================] - 0s 93us/sample - loss: 9.3402 - accuracy: 0.3945\n",
      "Epoch 6/10\n",
      "398/398 [==============================] - 0s 96us/sample - loss: 9.3402 - accuracy: 0.3945\n",
      "Epoch 7/10\n",
      "398/398 [==============================] - 0s 92us/sample - loss: 9.3402 - accuracy: 0.3945\n",
      "Epoch 8/10\n",
      "398/398 [==============================] - 0s 105us/sample - loss: 9.3402 - accuracy: 0.3945\n",
      "Epoch 9/10\n",
      "398/398 [==============================] - 0s 94us/sample - loss: 9.3402 - accuracy: 0.3945\n",
      "Epoch 10/10\n",
      "398/398 [==============================] - 0s 100us/sample - loss: 9.3402 - accuracy: 0.3945\n"
     ]
    },
    {
     "data": {
      "text/plain": [
       "<tensorflow.python.keras.callbacks.History at 0x7f24d5759f60>"
      ]
     },
     "execution_count": 13,
     "metadata": {},
     "output_type": "execute_result"
    }
   ],
   "source": [
    "model.fit(x_train, y_train, batch_size=64, epochs=10, verbose=1)\n"
   ]
  },
  {
   "cell_type": "code",
   "execution_count": 14,
   "metadata": {},
   "outputs": [
    {
     "name": "stdout",
     "output_type": "stream",
     "text": [
      "171/171 [==============================] - 0s 599us/sample - loss: 10.4637 - accuracy: 0.3216\n"
     ]
    },
    {
     "data": {
      "text/plain": [
       "[10.463707617151806, 0.32163742]"
      ]
     },
     "execution_count": 14,
     "metadata": {},
     "output_type": "execute_result"
    }
   ],
   "source": [
    "model.evaluate(x_test, y_test)\n"
   ]
  },
  {
   "cell_type": "code",
   "execution_count": 15,
   "metadata": {},
   "outputs": [
    {
     "name": "stdout",
     "output_type": "stream",
     "text": [
      "['loss', 'accuracy']\n"
     ]
    }
   ],
   "source": [
    "print(model.metrics_names)\n"
   ]
  },
  {
   "cell_type": "code",
   "execution_count": null,
   "metadata": {},
   "outputs": [],
   "source": []
  }
 ],
 "metadata": {
  "kernelspec": {
   "display_name": "Python 3",
   "language": "python",
   "name": "python3"
  },
  "language_info": {
   "codemirror_mode": {
    "name": "ipython",
    "version": 3
   },
   "file_extension": ".py",
   "mimetype": "text/x-python",
   "name": "python",
   "nbconvert_exporter": "python",
   "pygments_lexer": "ipython3",
   "version": "3.5.2"
  }
 },
 "nbformat": 4,
 "nbformat_minor": 2
}
