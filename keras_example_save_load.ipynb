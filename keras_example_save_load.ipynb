{
 "cells": [
  {
   "cell_type": "code",
   "execution_count": 3,
   "metadata": {},
   "outputs": [],
   "source": [
    "import tensorflow as tf\n",
    "from tensorflow.keras import layers\n",
    "from tensorflow import keras"
   ]
  },
  {
   "cell_type": "code",
   "execution_count": 9,
   "metadata": {},
   "outputs": [],
   "source": [
    "import os"
   ]
  },
  {
   "cell_type": "code",
   "execution_count": 4,
   "metadata": {},
   "outputs": [],
   "source": [
    "#导入数据\n",
    "(train_images, train_labels), (test_images, test_labels) = tf.keras.datasets.mnist.load_data()\n",
    "\n",
    "train_labels = train_labels[:1000]\n",
    "test_labels = test_labels[:1000]\n",
    "\n",
    "train_images = train_images[:1000].reshape(-1, 28 * 28) / 255.0\n",
    "test_images = test_images[:1000].reshape(-1, 28 * 28) / 255.0\n"
   ]
  },
  {
   "cell_type": "code",
   "execution_count": 5,
   "metadata": {},
   "outputs": [],
   "source": [
    "# 1.定义一个模型"
   ]
  },
  {
   "cell_type": "code",
   "execution_count": 6,
   "metadata": {},
   "outputs": [
    {
     "name": "stdout",
     "output_type": "stream",
     "text": [
      "Model: \"sequential\"\n",
      "_________________________________________________________________\n",
      "Layer (type)                 Output Shape              Param #   \n",
      "=================================================================\n",
      "dense (Dense)                (None, 128)               100480    \n",
      "_________________________________________________________________\n",
      "dropout (Dropout)            (None, 128)               0         \n",
      "_________________________________________________________________\n",
      "dense_1 (Dense)              (None, 10)                1290      \n",
      "=================================================================\n",
      "Total params: 101,770\n",
      "Trainable params: 101,770\n",
      "Non-trainable params: 0\n",
      "_________________________________________________________________\n"
     ]
    }
   ],
   "source": [
    "def create_model():\n",
    "    model = keras.Sequential([\n",
    "        keras.layers.Dense(128, activation='relu', input_shape=(784,)),\n",
    "        keras.layers.Dropout(0.5),\n",
    "        keras.layers.Dense(10, activation='softmax')\n",
    "    ])\n",
    "\n",
    "    model.compile(optimizer='adam',\n",
    "                 loss=keras.losses.sparse_categorical_crossentropy,\n",
    "                 metrics=['accuracy'])\n",
    "    return model\n",
    "model = create_model()\n",
    "model.summary()\n",
    "    \n"
   ]
  },
  {
   "cell_type": "code",
   "execution_count": 7,
   "metadata": {},
   "outputs": [],
   "source": [
    "# 2.checkpoint回调"
   ]
  },
  {
   "cell_type": "code",
   "execution_count": 10,
   "metadata": {},
   "outputs": [
    {
     "name": "stderr",
     "output_type": "stream",
     "text": [
      "WARNING: Logging before flag parsing goes to stderr.\n",
      "W0711 02:40:03.417800 140631332792064 deprecation.py:323] From /usr/local/lib/python3.5/dist-packages/tensorflow/python/ops/math_grad.py:1250: add_dispatch_support.<locals>.wrapper (from tensorflow.python.ops.array_ops) is deprecated and will be removed in a future version.\n",
      "Instructions for updating:\n",
      "Use tf.where in 2.0, which has the same broadcast rule as np.where\n"
     ]
    },
    {
     "name": "stdout",
     "output_type": "stream",
     "text": [
      "Train on 1000 samples, validate on 1000 samples\n",
      "Epoch 1/10\n",
      " 736/1000 [=====================>........] - ETA: 0s - loss: 1.8666 - accuracy: 0.4117\n",
      "Epoch 00001: saving model to 106save/model.ckpt\n",
      "1000/1000 [==============================] - 2s 2ms/sample - loss: 1.7333 - accuracy: 0.4650 - val_loss: 1.2788 - val_accuracy: 0.6820\n",
      "Epoch 2/10\n",
      " 736/1000 [=====================>........] - ETA: 0s - loss: 0.9821 - accuracy: 0.7283\n",
      "Epoch 00002: saving model to 106save/model.ckpt\n",
      "1000/1000 [==============================] - 0s 256us/sample - loss: 0.9474 - accuracy: 0.7340 - val_loss: 0.8683 - val_accuracy: 0.7590\n",
      "Epoch 3/10\n",
      " 800/1000 [=======================>......] - ETA: 0s - loss: 0.7220 - accuracy: 0.7825\n",
      "Epoch 00003: saving model to 106save/model.ckpt\n",
      "1000/1000 [==============================] - 0s 245us/sample - loss: 0.6940 - accuracy: 0.7910 - val_loss: 0.7135 - val_accuracy: 0.7980\n",
      "Epoch 4/10\n",
      " 800/1000 [=======================>......] - ETA: 0s - loss: 0.5924 - accuracy: 0.8175\n",
      "Epoch 00004: saving model to 106save/model.ckpt\n",
      "1000/1000 [==============================] - 0s 235us/sample - loss: 0.5864 - accuracy: 0.8220 - val_loss: 0.6221 - val_accuracy: 0.8310\n",
      "Epoch 5/10\n",
      " 864/1000 [========================>.....] - ETA: 0s - loss: 0.4709 - accuracy: 0.8750\n",
      "Epoch 00005: saving model to 106save/model.ckpt\n",
      "1000/1000 [==============================] - 0s 247us/sample - loss: 0.4625 - accuracy: 0.8790 - val_loss: 0.5644 - val_accuracy: 0.8380\n",
      "Epoch 6/10\n",
      " 800/1000 [=======================>......] - ETA: 0s - loss: 0.4006 - accuracy: 0.8825\n",
      "Epoch 00006: saving model to 106save/model.ckpt\n",
      "1000/1000 [==============================] - 0s 243us/sample - loss: 0.4032 - accuracy: 0.8860 - val_loss: 0.5353 - val_accuracy: 0.8460\n",
      "Epoch 7/10\n",
      " 800/1000 [=======================>......] - ETA: 0s - loss: 0.3542 - accuracy: 0.9013\n",
      "Epoch 00007: saving model to 106save/model.ckpt\n",
      "1000/1000 [==============================] - 0s 249us/sample - loss: 0.3492 - accuracy: 0.9040 - val_loss: 0.4883 - val_accuracy: 0.8630\n",
      "Epoch 8/10\n",
      " 832/1000 [=======================>......] - ETA: 0s - loss: 0.3245 - accuracy: 0.9111\n",
      "Epoch 00008: saving model to 106save/model.ckpt\n",
      "1000/1000 [==============================] - 0s 233us/sample - loss: 0.3134 - accuracy: 0.9160 - val_loss: 0.4896 - val_accuracy: 0.8600\n",
      "Epoch 9/10\n",
      " 800/1000 [=======================>......] - ETA: 0s - loss: 0.3274 - accuracy: 0.9075\n",
      "Epoch 00009: saving model to 106save/model.ckpt\n",
      "1000/1000 [==============================] - 0s 246us/sample - loss: 0.3107 - accuracy: 0.9120 - val_loss: 0.4714 - val_accuracy: 0.8590\n",
      "Epoch 10/10\n",
      " 768/1000 [======================>.......] - ETA: 0s - loss: 0.2602 - accuracy: 0.9284\n",
      "Epoch 00010: saving model to 106save/model.ckpt\n",
      "1000/1000 [==============================] - 0s 244us/sample - loss: 0.2505 - accuracy: 0.9350 - val_loss: 0.4614 - val_accuracy: 0.8620\n"
     ]
    },
    {
     "data": {
      "text/plain": [
       "<tensorflow.python.keras.callbacks.History at 0x7fe6c4612710>"
      ]
     },
     "execution_count": 10,
     "metadata": {},
     "output_type": "execute_result"
    }
   ],
   "source": [
    "check_path = '106save/model.ckpt'\n",
    "check_dir = os.path.dirname(check_path)\n",
    "\n",
    "cp_callback = tf.keras.callbacks.ModelCheckpoint(check_path, \n",
    "                                                 save_weights_only=True, verbose=1)\n",
    "model = create_model()\n",
    "model.fit(train_images, train_labels, epochs=10,\n",
    "         validation_data=(test_images, test_labels),\n",
    "         callbacks=[cp_callback])\n"
   ]
  },
  {
   "cell_type": "code",
   "execution_count": 11,
   "metadata": {},
   "outputs": [
    {
     "name": "stdout",
     "output_type": "stream",
     "text": [
      "checkpoint\t\t\tmodel.ckpt.data-00001-of-00002\r\n",
      "model.ckpt.data-00000-of-00002\tmodel.ckpt.index\r\n"
     ]
    }
   ],
   "source": [
    "!ls {check_dir}\n"
   ]
  },
  {
   "cell_type": "code",
   "execution_count": 12,
   "metadata": {},
   "outputs": [
    {
     "name": "stdout",
     "output_type": "stream",
     "text": [
      "1000/1000 [==============================] - 0s 241us/sample - loss: 2.3519 - accuracy: 0.1010\n",
      "Untrained model, accuracy: 10.10%\n"
     ]
    }
   ],
   "source": [
    "model = create_model()\n",
    "\n",
    "loss, acc = model.evaluate(test_images, test_labels)\n",
    "print(\"Untrained model, accuracy: {:5.2f}%\".format(100*acc))\n"
   ]
  },
  {
   "cell_type": "code",
   "execution_count": 13,
   "metadata": {},
   "outputs": [
    {
     "name": "stdout",
     "output_type": "stream",
     "text": [
      "1000/1000 [==============================] - 0s 96us/sample - loss: 0.4614 - accuracy: 0.8620\n",
      "Untrained model, accuracy: 86.20%\n"
     ]
    }
   ],
   "source": [
    "model.load_weights(check_path)\n",
    "loss, acc = model.evaluate(test_images, test_labels)\n",
    "print(\"Untrained model, accuracy: {:5.2f}%\".format(100*acc))\n"
   ]
  },
  {
   "cell_type": "code",
   "execution_count": 14,
   "metadata": {},
   "outputs": [],
   "source": [
    "# 3.设置checkpoint回调"
   ]
  },
  {
   "cell_type": "code",
   "execution_count": 15,
   "metadata": {},
   "outputs": [
    {
     "name": "stderr",
     "output_type": "stream",
     "text": [
      "W0711 02:44:13.093905 140631332792064 callbacks.py:859] `period` argument is deprecated. Please use `save_freq` to specify the frequency in number of samples seen.\n"
     ]
    },
    {
     "name": "stdout",
     "output_type": "stream",
     "text": [
      "Train on 1000 samples, validate on 1000 samples\n",
      "Epoch 1/10\n",
      "1000/1000 [==============================] - 1s 681us/sample - loss: 1.7936 - accuracy: 0.4320 - val_loss: 1.3112 - val_accuracy: 0.7150\n",
      "Epoch 2/10\n",
      "1000/1000 [==============================] - 0s 250us/sample - loss: 0.9452 - accuracy: 0.7530 - val_loss: 0.8717 - val_accuracy: 0.7670\n",
      "Epoch 3/10\n",
      "1000/1000 [==============================] - 0s 240us/sample - loss: 0.7064 - accuracy: 0.8050 - val_loss: 0.7158 - val_accuracy: 0.8020\n",
      "Epoch 4/10\n",
      "1000/1000 [==============================] - 0s 249us/sample - loss: 0.5267 - accuracy: 0.8590 - val_loss: 0.6322 - val_accuracy: 0.8090\n",
      "Epoch 5/10\n",
      " 800/1000 [=======================>......] - ETA: 0s - loss: 0.4562 - accuracy: 0.8750\n",
      "Epoch 00005: saving model to 106save02/cp-0005.ckpt\n",
      "1000/1000 [==============================] - 0s 251us/sample - loss: 0.4576 - accuracy: 0.8750 - val_loss: 0.5685 - val_accuracy: 0.8260\n",
      "Epoch 6/10\n",
      "1000/1000 [==============================] - 0s 247us/sample - loss: 0.3896 - accuracy: 0.8880 - val_loss: 0.5260 - val_accuracy: 0.8370\n",
      "Epoch 7/10\n",
      "1000/1000 [==============================] - 0s 238us/sample - loss: 0.3650 - accuracy: 0.9000 - val_loss: 0.4995 - val_accuracy: 0.8470\n",
      "Epoch 8/10\n",
      "1000/1000 [==============================] - 0s 225us/sample - loss: 0.3283 - accuracy: 0.9160 - val_loss: 0.4895 - val_accuracy: 0.8470\n",
      "Epoch 9/10\n",
      "1000/1000 [==============================] - 0s 243us/sample - loss: 0.3012 - accuracy: 0.9300 - val_loss: 0.4773 - val_accuracy: 0.8500\n",
      "Epoch 10/10\n",
      " 800/1000 [=======================>......] - ETA: 0s - loss: 0.2422 - accuracy: 0.9388\n",
      "Epoch 00010: saving model to 106save02/cp-0010.ckpt\n",
      "1000/1000 [==============================] - 0s 259us/sample - loss: 0.2609 - accuracy: 0.9350 - val_loss: 0.4390 - val_accuracy: 0.8610\n"
     ]
    },
    {
     "data": {
      "text/plain": [
       "<tensorflow.python.keras.callbacks.History at 0x7fe6c405fcc0>"
      ]
     },
     "execution_count": 15,
     "metadata": {},
     "output_type": "execute_result"
    }
   ],
   "source": [
    "check_path = '106save02/cp-{epoch:04d}.ckpt'\n",
    "check_dir = os.path.dirname(check_path)\n",
    "\n",
    "cp_callback = tf.keras.callbacks.ModelCheckpoint(check_path,save_weights_only=True, \n",
    "                                                 verbose=1, period=5)  # 每5\n",
    "model = create_model()\n",
    "model.fit(train_images, train_labels, epochs=10,\n",
    "         validation_data=(test_images, test_labels),\n",
    "         callbacks=[cp_callback])\n"
   ]
  },
  {
   "cell_type": "code",
   "execution_count": 16,
   "metadata": {},
   "outputs": [
    {
     "name": "stdout",
     "output_type": "stream",
     "text": [
      "checkpoint\t\t\t  cp-0010.ckpt.data-00000-of-00002\r\n",
      "cp-0005.ckpt.data-00000-of-00002  cp-0010.ckpt.data-00001-of-00002\r\n",
      "cp-0005.ckpt.data-00001-of-00002  cp-0010.ckpt.index\r\n",
      "cp-0005.ckpt.index\r\n"
     ]
    }
   ],
   "source": [
    "!ls {check_dir}\n"
   ]
  },
  {
   "cell_type": "code",
   "execution_count": 17,
   "metadata": {},
   "outputs": [],
   "source": [
    "# 载入最新版模型"
   ]
  },
  {
   "cell_type": "code",
   "execution_count": 18,
   "metadata": {},
   "outputs": [
    {
     "name": "stdout",
     "output_type": "stream",
     "text": [
      "106save02/cp-0010.ckpt\n"
     ]
    }
   ],
   "source": [
    "latest = tf.train.latest_checkpoint(check_dir)\n",
    "print(latest)\n",
    "\n"
   ]
  },
  {
   "cell_type": "code",
   "execution_count": 19,
   "metadata": {},
   "outputs": [
    {
     "name": "stdout",
     "output_type": "stream",
     "text": [
      "1000/1000 [==============================] - 0s 171us/sample - loss: 0.4390 - accuracy: 0.8610\n",
      "restored model accuracy: 86.10%\n"
     ]
    }
   ],
   "source": [
    "model = create_model()\n",
    "model.load_weights(latest)\n",
    "loss, acc = model.evaluate(test_images, test_labels)\n",
    "print('restored model accuracy: {:5.2f}%'.format(acc*100))\n"
   ]
  },
  {
   "cell_type": "code",
   "execution_count": 20,
   "metadata": {},
   "outputs": [],
   "source": [
    "# 5.手动保持权重"
   ]
  },
  {
   "cell_type": "code",
   "execution_count": 21,
   "metadata": {},
   "outputs": [
    {
     "name": "stdout",
     "output_type": "stream",
     "text": [
      "1000/1000 [==============================] - 0s 193us/sample - loss: 0.4390 - accuracy: 0.8610\n",
      "restored model accuracy: 86.10%\n"
     ]
    }
   ],
   "source": [
    "model.save_weights('106save03/manually_model.ckpt')\n",
    "model = create_model()\n",
    "model.load_weights('106save03/manually_model.ckpt')\n",
    "loss, acc = model.evaluate(test_images, test_labels)\n",
    "print('restored model accuracy: {:5.2f}%'.format(acc*100))\n"
   ]
  },
  {
   "cell_type": "code",
   "execution_count": 22,
   "metadata": {},
   "outputs": [],
   "source": [
    "# 6.保持整个模型"
   ]
  },
  {
   "cell_type": "code",
   "execution_count": 23,
   "metadata": {},
   "outputs": [
    {
     "name": "stderr",
     "output_type": "stream",
     "text": [
      "W0711 02:45:52.222819 140631332792064 util.py:244] Unresolved object in checkpoint: (root).optimizer.iter\n",
      "W0711 02:45:52.224447 140631332792064 util.py:244] Unresolved object in checkpoint: (root).optimizer.beta_1\n",
      "W0711 02:45:52.225564 140631332792064 util.py:244] Unresolved object in checkpoint: (root).optimizer.beta_2\n",
      "W0711 02:45:52.226655 140631332792064 util.py:244] Unresolved object in checkpoint: (root).optimizer.decay\n",
      "W0711 02:45:52.228895 140631332792064 util.py:244] Unresolved object in checkpoint: (root).optimizer.learning_rate\n",
      "W0711 02:45:52.230873 140631332792064 util.py:252] A checkpoint was restored (e.g. tf.train.Checkpoint.restore or tf.keras.Model.load_weights) but not all checkpointed values were used. See above for specific issues. Use expect_partial() on the load status object, e.g. tf.train.Checkpoint.restore(...).expect_partial(), to silence these warnings, or use assert_consumed() to make the check explicit. See https://www.tensorflow.org/alpha/guide/checkpoints#loading_mechanics for details.\n",
      "W0711 02:45:52.234100 140631332792064 util.py:244] Unresolved object in checkpoint: (root).optimizer.iter\n",
      "W0711 02:45:52.235243 140631332792064 util.py:244] Unresolved object in checkpoint: (root).optimizer.beta_1\n",
      "W0711 02:45:52.237318 140631332792064 util.py:244] Unresolved object in checkpoint: (root).optimizer.beta_2\n",
      "W0711 02:45:52.238194 140631332792064 util.py:244] Unresolved object in checkpoint: (root).optimizer.decay\n",
      "W0711 02:45:52.239172 140631332792064 util.py:244] Unresolved object in checkpoint: (root).optimizer.learning_rate\n",
      "W0711 02:45:52.240006 140631332792064 util.py:252] A checkpoint was restored (e.g. tf.train.Checkpoint.restore or tf.keras.Model.load_weights) but not all checkpointed values were used. See above for specific issues. Use expect_partial() on the load status object, e.g. tf.train.Checkpoint.restore(...).expect_partial(), to silence these warnings, or use assert_consumed() to make the check explicit. See https://www.tensorflow.org/alpha/guide/checkpoints#loading_mechanics for details.\n"
     ]
    },
    {
     "name": "stdout",
     "output_type": "stream",
     "text": [
      "Train on 1000 samples, validate on 1000 samples\n",
      "Epoch 1/10\n",
      "1000/1000 [==============================] - 1s 686us/sample - loss: 1.7795 - accuracy: 0.4150 - val_loss: 1.2583 - val_accuracy: 0.7200\n",
      "Epoch 2/10\n",
      "1000/1000 [==============================] - 0s 224us/sample - loss: 0.9762 - accuracy: 0.7400 - val_loss: 0.8456 - val_accuracy: 0.7760\n",
      "Epoch 3/10\n",
      "1000/1000 [==============================] - 0s 227us/sample - loss: 0.7103 - accuracy: 0.8000 - val_loss: 0.6979 - val_accuracy: 0.8160\n",
      "Epoch 4/10\n",
      "1000/1000 [==============================] - 0s 235us/sample - loss: 0.5680 - accuracy: 0.8440 - val_loss: 0.6173 - val_accuracy: 0.8290\n",
      "Epoch 5/10\n",
      "1000/1000 [==============================] - 0s 220us/sample - loss: 0.4693 - accuracy: 0.8650 - val_loss: 0.5679 - val_accuracy: 0.8310\n",
      "Epoch 6/10\n",
      "1000/1000 [==============================] - 0s 222us/sample - loss: 0.4334 - accuracy: 0.8780 - val_loss: 0.5300 - val_accuracy: 0.8440\n",
      "Epoch 7/10\n",
      "1000/1000 [==============================] - 0s 222us/sample - loss: 0.3720 - accuracy: 0.8970 - val_loss: 0.4976 - val_accuracy: 0.8530\n",
      "Epoch 8/10\n",
      "1000/1000 [==============================] - 0s 226us/sample - loss: 0.3480 - accuracy: 0.8990 - val_loss: 0.4890 - val_accuracy: 0.8560\n",
      "Epoch 9/10\n",
      "1000/1000 [==============================] - 0s 223us/sample - loss: 0.3285 - accuracy: 0.9070 - val_loss: 0.4759 - val_accuracy: 0.8590\n",
      "Epoch 10/10\n",
      "1000/1000 [==============================] - 0s 222us/sample - loss: 0.2971 - accuracy: 0.9210 - val_loss: 0.4603 - val_accuracy: 0.8560\n"
     ]
    }
   ],
   "source": [
    "model = create_model()\n",
    "model.fit(train_images, train_labels, epochs=10,\n",
    "         validation_data=(test_images, test_labels),\n",
    "         )\n",
    "model.save('106save03.h5')\n"
   ]
  },
  {
   "cell_type": "code",
   "execution_count": 24,
   "metadata": {},
   "outputs": [
    {
     "name": "stdout",
     "output_type": "stream",
     "text": [
      "Model: \"sequential_6\"\n",
      "_________________________________________________________________\n",
      "Layer (type)                 Output Shape              Param #   \n",
      "=================================================================\n",
      "dense_12 (Dense)             (None, 128)               100480    \n",
      "_________________________________________________________________\n",
      "dropout_6 (Dropout)          (None, 128)               0         \n",
      "_________________________________________________________________\n",
      "dense_13 (Dense)             (None, 10)                1290      \n",
      "=================================================================\n",
      "Total params: 101,770\n",
      "Trainable params: 101,770\n",
      "Non-trainable params: 0\n",
      "_________________________________________________________________\n"
     ]
    }
   ],
   "source": [
    "new_model = keras.models.load_model('106save03.h5')\n",
    "new_model.summary()\n"
   ]
  },
  {
   "cell_type": "code",
   "execution_count": 25,
   "metadata": {},
   "outputs": [
    {
     "name": "stdout",
     "output_type": "stream",
     "text": [
      "1000/1000 [==============================] - 0s 89us/sample - loss: 0.4603 - accuracy: 0.8560\n",
      "restored model accuracy: 85.60%\n"
     ]
    }
   ],
   "source": [
    "loss, acc = model.evaluate(test_images, test_labels)\n",
    "print('restored model accuracy: {:5.2f}%'.format(acc*100))\n"
   ]
  },
  {
   "cell_type": "code",
   "execution_count": 26,
   "metadata": {},
   "outputs": [],
   "source": [
    "# 7.其他导出模型的方法"
   ]
  },
  {
   "cell_type": "code",
   "execution_count": 27,
   "metadata": {},
   "outputs": [
    {
     "name": "stderr",
     "output_type": "stream",
     "text": [
      "W0711 02:46:49.455976 140631332792064 deprecation.py:323] From /usr/local/lib/python3.5/dist-packages/tensorflow/python/saved_model/signature_def_utils_impl.py:253: build_tensor_info (from tensorflow.python.saved_model.utils_impl) is deprecated and will be removed in a future version.\n",
      "Instructions for updating:\n",
      "This function will only be available through the v1 compatibility library as tf.compat.v1.saved_model.utils.build_tensor_info or tf.compat.v1.saved_model.build_tensor_info.\n",
      "W0711 02:46:49.458167 140631332792064 export_utils.py:182] Export includes no default signature!\n",
      "W0711 02:46:50.197889 140631332792064 export_utils.py:182] Export includes no default signature!\n"
     ]
    },
    {
     "data": {
      "text/plain": [
       "'./saved_models/1562813208'"
      ]
     },
     "execution_count": 27,
     "metadata": {},
     "output_type": "execute_result"
    }
   ],
   "source": [
    "import time\n",
    "saved_model_path = \"./saved_models/{}\".format(int(time.time()))\n",
    "\n",
    "tf.keras.experimental.export_saved_model(model, saved_model_path)\n",
    "saved_model_path\n"
   ]
  },
  {
   "cell_type": "code",
   "execution_count": 28,
   "metadata": {},
   "outputs": [
    {
     "name": "stdout",
     "output_type": "stream",
     "text": [
      "Model: \"sequential_6\"\n",
      "_________________________________________________________________\n",
      "Layer (type)                 Output Shape              Param #   \n",
      "=================================================================\n",
      "dense_12 (Dense)             (None, 128)               100480    \n",
      "_________________________________________________________________\n",
      "dropout_6 (Dropout)          (None, 128)               0         \n",
      "_________________________________________________________________\n",
      "dense_13 (Dense)             (None, 10)                1290      \n",
      "=================================================================\n",
      "Total params: 101,770\n",
      "Trainable params: 101,770\n",
      "Non-trainable params: 0\n",
      "_________________________________________________________________\n"
     ]
    }
   ],
   "source": [
    "new_model = tf.keras.experimental.load_from_saved_model(saved_model_path)\n",
    "new_model.summary()\n"
   ]
  },
  {
   "cell_type": "code",
   "execution_count": 29,
   "metadata": {},
   "outputs": [
    {
     "name": "stdout",
     "output_type": "stream",
     "text": [
      "1000/1000 [==============================] - 0s 207us/sample - loss: 0.4603 - accuracy: 0.8560\n",
      "Restored model, accuracy: 85.60%\n"
     ]
    }
   ],
   "source": [
    "# 该方法必须先运行compile函数\n",
    "new_model.compile(optimizer=model.optimizer,  # keep the optimizer that was loaded\n",
    "              loss='sparse_categorical_crossentropy',\n",
    "              metrics=['accuracy'])\n",
    "\n",
    "# Evaluate the restored model.\n",
    "loss, acc = new_model.evaluate(test_images, test_labels)\n",
    "print(\"Restored model, accuracy: {:5.2f}%\".format(100*acc))\n"
   ]
  },
  {
   "cell_type": "code",
   "execution_count": null,
   "metadata": {},
   "outputs": [],
   "source": []
  }
 ],
 "metadata": {
  "kernelspec": {
   "display_name": "Python 3",
   "language": "python",
   "name": "python3"
  },
  "language_info": {
   "codemirror_mode": {
    "name": "ipython",
    "version": 3
   },
   "file_extension": ".py",
   "mimetype": "text/x-python",
   "name": "python",
   "nbconvert_exporter": "python",
   "pygments_lexer": "ipython3",
   "version": "3.5.2"
  }
 },
 "nbformat": 4,
 "nbformat_minor": 2
}
