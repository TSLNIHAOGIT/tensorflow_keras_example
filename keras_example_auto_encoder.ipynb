{
 "cells": [
  {
   "cell_type": "code",
   "execution_count": 1,
   "metadata": {},
   "outputs": [
    {
     "name": "stdout",
     "output_type": "stream",
     "text": [
      "1 Physical GPUs, 1 Logical GPUs\n"
     ]
    }
   ],
   "source": [
    "import tensorflow as tf\n",
    "from tensorflow.keras import layers\n",
    "from tensorflow import keras\n",
    "gpus = tf.config.experimental.list_physical_devices('GPU')\n",
    "if gpus:\n",
    "  # Restrict TensorFlow to only allocate 1GB of memory on the first GPU\n",
    "  try:\n",
    "    tf.config.experimental.set_virtual_device_configuration(\n",
    "        gpus[0],\n",
    "        [tf.config.experimental.VirtualDeviceConfiguration(memory_limit=1500)])\n",
    "    logical_gpus = tf.config.experimental.list_logical_devices('GPU')\n",
    "    print(len(gpus), \"Physical GPUs,\", len(logical_gpus), \"Logical GPUs\")\n",
    "  except RuntimeError as e:\n",
    "    # Virtual devices must be set before GPUs have been initialized\n",
    "    print(e)"
   ]
  },
  {
   "cell_type": "code",
   "execution_count": 2,
   "metadata": {},
   "outputs": [],
   "source": [
    "# 1.导入数据"
   ]
  },
  {
   "cell_type": "code",
   "execution_count": 3,
   "metadata": {},
   "outputs": [
    {
     "name": "stdout",
     "output_type": "stream",
     "text": [
      "2.0.0-beta1\n"
     ]
    }
   ],
   "source": [
    "import tensorflow as tf\n",
    "import tensorflow.keras as keras\n",
    "import tensorflow.keras.layers as layers\n",
    "from IPython.display import SVG\n",
    "print(tf.__version__)\n",
    "\n",
    "(x_train, y_train), (x_test, y_test) = keras.datasets.mnist.load_data()\n",
    "x_train = x_train.reshape((-1, 28*28)) / 255.0\n",
    "x_test = x_test.reshape((-1, 28*28)) / 255.0"
   ]
  },
  {
   "cell_type": "code",
   "execution_count": 4,
   "metadata": {},
   "outputs": [
    {
     "name": "stdout",
     "output_type": "stream",
     "text": [
      "(60000, 784)   (60000,)\n",
      "(10000, 784)   (10000,)\n"
     ]
    }
   ],
   "source": [
    "print(x_train.shape, ' ', y_train.shape)\n",
    "print(x_test.shape, ' ', y_test.shape)"
   ]
  },
  {
   "cell_type": "code",
   "execution_count": 5,
   "metadata": {},
   "outputs": [],
   "source": [
    "# 2.简单的自编码器"
   ]
  },
  {
   "cell_type": "code",
   "execution_count": 6,
   "metadata": {},
   "outputs": [
    {
     "name": "stdout",
     "output_type": "stream",
     "text": [
      "Model: \"model\"\n",
      "_________________________________________________________________\n",
      "Layer (type)                 Output Shape              Param #   \n",
      "=================================================================\n",
      "inputs (InputLayer)          [(None, 784)]             0         \n",
      "_________________________________________________________________\n",
      "code (Dense)                 (None, 32)                25120     \n",
      "_________________________________________________________________\n",
      "outputs (Dense)              (None, 784)               25872     \n",
      "=================================================================\n",
      "Total params: 50,992\n",
      "Trainable params: 50,992\n",
      "Non-trainable params: 0\n",
      "_________________________________________________________________\n"
     ]
    }
   ],
   "source": [
    "code_dim = 32\n",
    "inputs = layers.Input(shape=(x_train.shape[1],), name='inputs')\n",
    "code = layers.Dense(code_dim, activation='relu', name='code')(inputs)\n",
    "outputs = layers.Dense(x_train.shape[1], activation='softmax', name='outputs')(code)\n",
    "\n",
    "auto_encoder = keras.Model(inputs, outputs)\n",
    "auto_encoder.summary()\n"
   ]
  },
  {
   "cell_type": "code",
   "execution_count": 8,
   "metadata": {},
   "outputs": [
    {
     "name": "stdout",
     "output_type": "stream",
     "text": [
      "Failed to import pydot. You must install pydot and graphviz for `pydotprint` to work.\n"
     ]
    }
   ],
   "source": [
    "keras.utils.plot_model(auto_encoder, show_shapes=True)"
   ]
  },
  {
   "cell_type": "code",
   "execution_count": 9,
   "metadata": {},
   "outputs": [
    {
     "name": "stdout",
     "output_type": "stream",
     "text": [
      "Failed to import pydot. You must install pydot and graphviz for `pydotprint` to work.\n"
     ]
    }
   ],
   "source": [
    "encoder = keras.Model(inputs,code)\n",
    "keras.utils.plot_model(encoder, show_shapes=True)"
   ]
  },
  {
   "cell_type": "code",
   "execution_count": 13,
   "metadata": {},
   "outputs": [
    {
     "name": "stdout",
     "output_type": "stream",
     "text": [
      "Failed to import pydot. You must install pydot and graphviz for `pydotprint` to work.\n"
     ]
    }
   ],
   "source": [
    "decoder_input = keras.Input((code_dim,))\n",
    "decoder_output = auto_encoder.layers[-1](decoder_input)\n",
    "decoder = keras.Model(decoder_input, decoder_output)\n",
    "keras.utils.plot_model(decoder, show_shapes=True)"
   ]
  },
  {
   "cell_type": "code",
   "execution_count": 11,
   "metadata": {},
   "outputs": [
    {
     "name": "stdout",
     "output_type": "stream",
     "text": [
      "Looking in indexes: https://pypi.douban.com/simple\n",
      "Collecting pydot\n",
      "  Downloading https://pypi.doubanio.com/packages/33/d1/b1479a770f66d962f545c2101630ce1d5592d90cb4f083d38862e93d16d2/pydot-1.4.1-py2.py3-none-any.whl\n",
      "Collecting graphviz\n",
      "  Downloading https://pypi.doubanio.com/packages/5c/b1/016e657586843f40b4daa66127ce1ee9e3285ff15baf5d80946644a98aeb/graphviz-0.11.1-py2.py3-none-any.whl\n",
      "Requirement already satisfied: pyparsing>=2.1.4 in /usr/local/lib/python3.5/dist-packages (from pydot) (2.4.0)\n",
      "Installing collected packages: pydot, graphviz\n",
      "Successfully installed graphviz-0.11.1 pydot-1.4.1\n",
      "\u001b[33mYou are using pip version 19.0.3, however version 19.1.1 is available.\n",
      "You should consider upgrading via the 'pip install --upgrade pip' command.\u001b[0m\n"
     ]
    }
   ],
   "source": [
    "!pip install pydot graphviz -i https://pypi.douban.com/simple"
   ]
  },
  {
   "cell_type": "code",
   "execution_count": 14,
   "metadata": {},
   "outputs": [],
   "source": [
    "auto_encoder.compile(optimizer='adam',\n",
    "                    loss='binary_crossentropy')"
   ]
  },
  {
   "cell_type": "code",
   "execution_count": 15,
   "metadata": {},
   "outputs": [],
   "source": [
    "# 训练模型"
   ]
  },
  {
   "cell_type": "code",
   "execution_count": 16,
   "metadata": {},
   "outputs": [
    {
     "name": "stderr",
     "output_type": "stream",
     "text": [
      "WARNING: Logging before flag parsing goes to stderr.\n",
      "W0712 04:54:58.505131 140010574141184 deprecation.py:323] From /usr/local/lib/python3.5/dist-packages/tensorflow/python/ops/math_grad.py:1250: add_dispatch_support.<locals>.wrapper (from tensorflow.python.ops.array_ops) is deprecated and will be removed in a future version.\n",
      "Instructions for updating:\n",
      "Use tf.where in 2.0, which has the same broadcast rule as np.where\n"
     ]
    },
    {
     "name": "stdout",
     "output_type": "stream",
     "text": [
      "Train on 54000 samples, validate on 6000 samples\n",
      "Epoch 1/100\n",
      "54000/54000 [==============================] - 6s 118us/sample - loss: 0.7059 - val_loss: 0.6798\n",
      "Epoch 2/100\n",
      "54000/54000 [==============================] - 5s 94us/sample - loss: 0.6798 - val_loss: 0.6744\n",
      "Epoch 3/100\n",
      "54000/54000 [==============================] - 5s 83us/sample - loss: 0.6768 - val_loss: 0.6732\n",
      "Epoch 4/100\n",
      "54000/54000 [==============================] - 5s 91us/sample - loss: 0.6759 - val_loss: 0.6725\n",
      "Epoch 5/100\n",
      "54000/54000 [==============================] - 5s 98us/sample - loss: 0.6753 - val_loss: 0.6722\n",
      "Epoch 6/100\n",
      "54000/54000 [==============================] - 5s 100us/sample - loss: 0.6751 - val_loss: 0.6722\n",
      "Epoch 7/100\n",
      "54000/54000 [==============================] - 5s 91us/sample - loss: 0.6749 - val_loss: 0.6719\n",
      "Epoch 8/100\n",
      "54000/54000 [==============================] - 5s 92us/sample - loss: 0.6747 - val_loss: 0.6718\n",
      "Epoch 9/100\n",
      "54000/54000 [==============================] - 4s 77us/sample - loss: 0.6746 - val_loss: 0.6717\n",
      "Epoch 10/100\n",
      "54000/54000 [==============================] - 3s 58us/sample - loss: 0.6745 - val_loss: 0.6715\n",
      "Epoch 11/100\n",
      "54000/54000 [==============================] - 3s 57us/sample - loss: 0.6744 - val_loss: 0.6715\n",
      "Epoch 12/100\n",
      "54000/54000 [==============================] - 4s 80us/sample - loss: 0.6743 - val_loss: 0.6715\n",
      "Epoch 13/100\n",
      "54000/54000 [==============================] - 3s 60us/sample - loss: 0.6742 - val_loss: 0.6715\n",
      "Epoch 14/100\n",
      "54000/54000 [==============================] - 3s 60us/sample - loss: 0.6742 - val_loss: 0.6714\n",
      "Epoch 15/100\n",
      "54000/54000 [==============================] - 3s 60us/sample - loss: 0.6741 - val_loss: 0.6714\n",
      "Epoch 16/100\n",
      "54000/54000 [==============================] - 3s 58us/sample - loss: 0.6741 - val_loss: 0.6713\n",
      "Epoch 17/100\n",
      "54000/54000 [==============================] - 3s 58us/sample - loss: 0.6740 - val_loss: 0.6714\n",
      "Epoch 18/100\n",
      "54000/54000 [==============================] - 3s 58us/sample - loss: 0.6740 - val_loss: 0.6712\n",
      "Epoch 19/100\n",
      "54000/54000 [==============================] - 3s 57us/sample - loss: 0.6740 - val_loss: 0.6711\n",
      "Epoch 20/100\n",
      "54000/54000 [==============================] - 3s 63us/sample - loss: 0.6739 - val_loss: 0.6711\n",
      "Epoch 21/100\n",
      "54000/54000 [==============================] - 3s 57us/sample - loss: 0.6739 - val_loss: 0.6711\n",
      "Epoch 22/100\n",
      "54000/54000 [==============================] - 3s 58us/sample - loss: 0.6738 - val_loss: 0.6711\n",
      "Epoch 23/100\n",
      "54000/54000 [==============================] - 3s 57us/sample - loss: 0.6738 - val_loss: 0.6710\n",
      "Epoch 24/100\n",
      "54000/54000 [==============================] - 3s 57us/sample - loss: 0.6738 - val_loss: 0.6710\n",
      "Epoch 25/100\n",
      "54000/54000 [==============================] - 3s 59us/sample - loss: 0.6737 - val_loss: 0.6710\n",
      "Epoch 26/100\n",
      "54000/54000 [==============================] - 3s 58us/sample - loss: 0.6737 - val_loss: 0.6710\n",
      "Epoch 27/100\n",
      "54000/54000 [==============================] - 3s 58us/sample - loss: 0.6737 - val_loss: 0.6711\n",
      "Epoch 28/100\n",
      "54000/54000 [==============================] - 3s 60us/sample - loss: 0.6736 - val_loss: 0.6709\n",
      "Epoch 29/100\n",
      "54000/54000 [==============================] - 3s 61us/sample - loss: 0.6736 - val_loss: 0.6708\n",
      "Epoch 30/100\n",
      "54000/54000 [==============================] - 3s 59us/sample - loss: 0.6735 - val_loss: 0.6707\n",
      "Epoch 31/100\n",
      "54000/54000 [==============================] - 3s 58us/sample - loss: 0.6735 - val_loss: 0.6709\n",
      "Epoch 32/100\n",
      "54000/54000 [==============================] - 3s 58us/sample - loss: 0.6734 - val_loss: 0.6707\n",
      "Epoch 33/100\n",
      "54000/54000 [==============================] - 4s 65us/sample - loss: 0.6734 - val_loss: 0.6707\n",
      "Epoch 34/100\n",
      "54000/54000 [==============================] - 3s 59us/sample - loss: 0.6734 - val_loss: 0.6706\n",
      "Epoch 35/100\n",
      "54000/54000 [==============================] - 3s 58us/sample - loss: 0.6733 - val_loss: 0.6706\n",
      "Epoch 36/100\n",
      "54000/54000 [==============================] - 3s 62us/sample - loss: 0.6733 - val_loss: 0.6705\n",
      "Epoch 37/100\n",
      "54000/54000 [==============================] - 3s 58us/sample - loss: 0.6732 - val_loss: 0.6704\n",
      "Epoch 38/100\n",
      "54000/54000 [==============================] - 3s 59us/sample - loss: 0.6732 - val_loss: 0.6705\n",
      "Epoch 39/100\n",
      "54000/54000 [==============================] - 3s 57us/sample - loss: 0.6732 - val_loss: 0.6704\n",
      "Epoch 40/100\n",
      "54000/54000 [==============================] - 3s 64us/sample - loss: 0.6731 - val_loss: 0.6704\n",
      "Epoch 41/100\n",
      "54000/54000 [==============================] - 3s 57us/sample - loss: 0.6731 - val_loss: 0.6703\n",
      "Epoch 42/100\n",
      "54000/54000 [==============================] - 3s 58us/sample - loss: 0.6730 - val_loss: 0.6704\n",
      "Epoch 43/100\n",
      "54000/54000 [==============================] - 3s 58us/sample - loss: 0.6730 - val_loss: 0.6703\n",
      "Epoch 44/100\n",
      "54000/54000 [==============================] - 3s 58us/sample - loss: 0.6730 - val_loss: 0.6702\n",
      "Epoch 45/100\n",
      "54000/54000 [==============================] - 3s 63us/sample - loss: 0.6730 - val_loss: 0.6703\n",
      "Epoch 46/100\n",
      "54000/54000 [==============================] - 3s 58us/sample - loss: 0.6729 - val_loss: 0.6701\n",
      "Epoch 47/100\n",
      "54000/54000 [==============================] - 3s 58us/sample - loss: 0.6729 - val_loss: 0.6702\n",
      "Epoch 48/100\n",
      "54000/54000 [==============================] - 3s 58us/sample - loss: 0.6729 - val_loss: 0.6701\n",
      "Epoch 49/100\n",
      "54000/54000 [==============================] - 3s 63us/sample - loss: 0.6728 - val_loss: 0.6700\n",
      "Epoch 50/100\n",
      "54000/54000 [==============================] - 3s 63us/sample - loss: 0.6728 - val_loss: 0.6700\n",
      "Epoch 51/100\n",
      "54000/54000 [==============================] - 3s 59us/sample - loss: 0.6728 - val_loss: 0.6701\n",
      "Epoch 52/100\n",
      "54000/54000 [==============================] - 3s 60us/sample - loss: 0.6727 - val_loss: 0.6700\n",
      "Epoch 53/100\n",
      "54000/54000 [==============================] - 3s 58us/sample - loss: 0.6727 - val_loss: 0.6700\n",
      "Epoch 54/100\n",
      "54000/54000 [==============================] - 3s 58us/sample - loss: 0.6727 - val_loss: 0.6699\n",
      "Epoch 55/100\n",
      "54000/54000 [==============================] - 3s 58us/sample - loss: 0.6727 - val_loss: 0.6699\n",
      "Epoch 56/100\n",
      "54000/54000 [==============================] - 3s 64us/sample - loss: 0.6726 - val_loss: 0.6699\n",
      "Epoch 57/100\n",
      "54000/54000 [==============================] - 3s 58us/sample - loss: 0.6726 - val_loss: 0.6700\n",
      "Epoch 58/100\n",
      "54000/54000 [==============================] - 3s 57us/sample - loss: 0.6726 - val_loss: 0.6698\n",
      "Epoch 59/100\n",
      "54000/54000 [==============================] - 3s 59us/sample - loss: 0.6726 - val_loss: 0.6698\n",
      "Epoch 60/100\n",
      "54000/54000 [==============================] - 3s 63us/sample - loss: 0.6725 - val_loss: 0.6699\n",
      "Epoch 61/100\n",
      "54000/54000 [==============================] - 3s 59us/sample - loss: 0.6725 - val_loss: 0.6698\n",
      "Epoch 62/100\n",
      "54000/54000 [==============================] - 3s 58us/sample - loss: 0.6725 - val_loss: 0.6699\n",
      "Epoch 63/100\n",
      "54000/54000 [==============================] - 3s 63us/sample - loss: 0.6725 - val_loss: 0.6697\n",
      "Epoch 64/100\n",
      "54000/54000 [==============================] - 3s 58us/sample - loss: 0.6725 - val_loss: 0.6696\n",
      "Epoch 65/100\n",
      "54000/54000 [==============================] - 3s 58us/sample - loss: 0.6724 - val_loss: 0.6698\n",
      "Epoch 66/100\n",
      "54000/54000 [==============================] - 3s 57us/sample - loss: 0.6724 - val_loss: 0.6697\n",
      "Epoch 67/100\n",
      "54000/54000 [==============================] - 3s 58us/sample - loss: 0.6724 - val_loss: 0.6697\n",
      "Epoch 68/100\n",
      "54000/54000 [==============================] - 3s 58us/sample - loss: 0.6724 - val_loss: 0.6697\n",
      "Epoch 69/100\n",
      "54000/54000 [==============================] - 3s 63us/sample - loss: 0.6724 - val_loss: 0.6696\n",
      "Epoch 70/100\n",
      "54000/54000 [==============================] - 3s 58us/sample - loss: 0.6723 - val_loss: 0.6696\n",
      "Epoch 71/100\n",
      "54000/54000 [==============================] - 3s 58us/sample - loss: 0.6723 - val_loss: 0.6695\n",
      "Epoch 72/100\n",
      "54000/54000 [==============================] - 3s 58us/sample - loss: 0.6723 - val_loss: 0.6695\n",
      "Epoch 73/100\n",
      "54000/54000 [==============================] - 3s 58us/sample - loss: 0.6723 - val_loss: 0.6695\n",
      "Epoch 74/100\n",
      "54000/54000 [==============================] - 3s 58us/sample - loss: 0.6723 - val_loss: 0.6695\n",
      "Epoch 75/100\n",
      "54000/54000 [==============================] - 3s 58us/sample - loss: 0.6722 - val_loss: 0.6695\n"
     ]
    },
    {
     "name": "stdout",
     "output_type": "stream",
     "text": [
      "Epoch 76/100\n",
      "54000/54000 [==============================] - 3s 57us/sample - loss: 0.6722 - val_loss: 0.6695\n",
      "Epoch 77/100\n",
      "54000/54000 [==============================] - 3s 59us/sample - loss: 0.6722 - val_loss: 0.6694\n",
      "Epoch 78/100\n",
      "54000/54000 [==============================] - 3s 64us/sample - loss: 0.6721 - val_loss: 0.6694\n",
      "Epoch 79/100\n",
      "54000/54000 [==============================] - 3s 58us/sample - loss: 0.6721 - val_loss: 0.6695\n",
      "Epoch 80/100\n",
      "54000/54000 [==============================] - 3s 59us/sample - loss: 0.6721 - val_loss: 0.6694\n",
      "Epoch 81/100\n",
      "54000/54000 [==============================] - 3s 65us/sample - loss: 0.6720 - val_loss: 0.6693\n",
      "Epoch 82/100\n",
      "54000/54000 [==============================] - 3s 58us/sample - loss: 0.6720 - val_loss: 0.6693\n",
      "Epoch 83/100\n",
      "54000/54000 [==============================] - 3s 63us/sample - loss: 0.6719 - val_loss: 0.6692\n",
      "Epoch 84/100\n",
      "54000/54000 [==============================] - 3s 60us/sample - loss: 0.6719 - val_loss: 0.6692\n",
      "Epoch 85/100\n",
      "54000/54000 [==============================] - 3s 63us/sample - loss: 0.6719 - val_loss: 0.6692\n",
      "Epoch 86/100\n",
      "54000/54000 [==============================] - 3s 58us/sample - loss: 0.6718 - val_loss: 0.6691\n",
      "Epoch 87/100\n",
      "54000/54000 [==============================] - 3s 58us/sample - loss: 0.6718 - val_loss: 0.6691\n",
      "Epoch 88/100\n",
      "54000/54000 [==============================] - 3s 59us/sample - loss: 0.6718 - val_loss: 0.6692\n",
      "Epoch 89/100\n",
      "54000/54000 [==============================] - 3s 58us/sample - loss: 0.6718 - val_loss: 0.6692\n",
      "Epoch 90/100\n",
      "54000/54000 [==============================] - 3s 58us/sample - loss: 0.6717 - val_loss: 0.6690\n",
      "Epoch 91/100\n",
      "54000/54000 [==============================] - 3s 65us/sample - loss: 0.6717 - val_loss: 0.6690\n",
      "Epoch 92/100\n",
      "54000/54000 [==============================] - 3s 58us/sample - loss: 0.6717 - val_loss: 0.6689\n",
      "Epoch 93/100\n",
      "54000/54000 [==============================] - 3s 59us/sample - loss: 0.6717 - val_loss: 0.6689\n",
      "Epoch 94/100\n",
      "54000/54000 [==============================] - 3s 57us/sample - loss: 0.6716 - val_loss: 0.6689\n",
      "Epoch 95/100\n",
      "54000/54000 [==============================] - 3s 58us/sample - loss: 0.6716 - val_loss: 0.6690\n",
      "Epoch 96/100\n",
      "54000/54000 [==============================] - 3s 57us/sample - loss: 0.6716 - val_loss: 0.6688\n",
      "Epoch 97/100\n",
      "54000/54000 [==============================] - 3s 58us/sample - loss: 0.6715 - val_loss: 0.6688\n",
      "Epoch 98/100\n",
      "54000/54000 [==============================] - 3s 57us/sample - loss: 0.6715 - val_loss: 0.6688\n",
      "Epoch 99/100\n",
      "54000/54000 [==============================] - 3s 59us/sample - loss: 0.6715 - val_loss: 0.6687\n",
      "Epoch 100/100\n",
      "54000/54000 [==============================] - 3s 59us/sample - loss: 0.6714 - val_loss: 0.6687\n",
      "CPU times: user 5min 24s, sys: 17.1 s, total: 5min 41s\n",
      "Wall time: 5min 38s\n"
     ]
    }
   ],
   "source": [
    "%%time\n",
    "history = auto_encoder.fit(x_train, x_train, batch_size=64, epochs=100, validation_split=0.1)\n"
   ]
  },
  {
   "cell_type": "code",
   "execution_count": 18,
   "metadata": {},
   "outputs": [
    {
     "data": {
      "image/png": "[encoded data removed]",
      "text/plain": [
       "<Figure size 720x288 with 10 Axes>"
      ]
     },
     "metadata": {
      "needs_background": "light"
     },
     "output_type": "display_data"
    }
   ],
   "source": [
    "encoded = encoder.predict(x_test)\n",
    "decoded = decoder.predict(encoded)\n",
    "import matplotlib.pyplot as plt\n",
    "plt.figure(figsize=(10,4))\n",
    "\n",
    "n = 5\n",
    "for i in range(n):\n",
    "    ax = plt.subplot(2, n, i+1)\n",
    "    plt.imshow(x_test[i].reshape(28,28))\n",
    "    plt.gray()\n",
    "    ax.get_xaxis().set_visible(False)\n",
    "    ax.get_yaxis().set_visible(False)\n",
    "\n",
    "    ax = plt.subplot(2, n, n+i+1)\n",
    "    plt.imshow(decoded[i].reshape(28,28))\n",
    "    plt.gray()\n",
    "    ax.get_xaxis().set_visible(False)\n",
    "    ax.get_yaxis().set_visible(False)\n",
    "plt.show()"
   ]
  },
  {
   "cell_type": "code",
   "execution_count": null,
   "metadata": {},
   "outputs": [],
   "source": []
  }
 ],
 "metadata": {
  "kernelspec": {
   "display_name": "Python 3",
   "language": "python",
   "name": "python3"
  },
  "language_info": {
   "codemirror_mode": {
    "name": "ipython",
    "version": 3
   },
   "file_extension": ".py",
   "mimetype": "text/x-python",
   "name": "python",
   "nbconvert_exporter": "python",
   "pygments_lexer": "ipython3",
   "version": "3.5.2"
  }
 },
 "nbformat": 4,
 "nbformat_minor": 2
}
